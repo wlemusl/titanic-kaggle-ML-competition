{
  "nbformat": 4,
  "nbformat_minor": 0,
  "metadata": {
    "colab": {
      "name": "mlp.ipynb",
      "provenance": [],
      "collapsed_sections": [],
      "toc_visible": true,
      "authorship_tag": "ABX9TyMmtyLTDxOtE6WRpzrUkrHu"
    },
    "kernelspec": {
      "name": "python3",
      "display_name": "Python 3"
    },
    "language_info": {
      "name": "python"
    }
  },
  "cells": [
    {
      "cell_type": "markdown",
      "metadata": {
        "id": "VbCh4lzv7n9D"
      },
      "source": [
        "### 1. Importar las bibliotecas requeridas"
      ]
    },
    {
      "cell_type": "code",
      "metadata": {
        "id": "03XXFmM17hrU"
      },
      "source": [
        "import pandas as pd\n",
        "import seaborn as sns\n",
        "import numpy as np\n",
        "from sklearn import preprocessing\n",
        "import yaml\n",
        "%matplotlib inline\n",
        "from google.colab import drive\n",
        "\n",
        "import tensorflow as tf\n",
        "from tensorflow.keras.models import Sequential\n",
        "from tensorflow.keras.layers import Dense, Dropout\n",
        "from tensorflow.keras.utils import to_categorical\n",
        "from tensorflow.keras.callbacks import ModelCheckpoint"
      ],
      "execution_count": null,
      "outputs": []
    },
    {
      "cell_type": "code",
      "metadata": {
        "colab": {
          "base_uri": "https://localhost:8080/"
        },
        "id": "A3Vq1OiD9u8w",
        "outputId": "ee57c7d5-5e74-4001-ca3a-2afe4f7756f1"
      },
      "source": [
        "print('My tensorflow version is...')\n",
        "print(tf.__version__)"
      ],
      "execution_count": null,
      "outputs": [
        {
          "output_type": "stream",
          "text": [
            "My tensorflow version is...\n",
            "2.5.0\n"
          ],
          "name": "stdout"
        }
      ]
    },
    {
      "cell_type": "code",
      "metadata": {
        "colab": {
          "base_uri": "https://localhost:8080/"
        },
        "id": "Ykm99N_M_Fnm",
        "outputId": "25bdab39-9977-4121-ebcb-076382880353"
      },
      "source": [
        "drive.mount('/content/drive')"
      ],
      "execution_count": null,
      "outputs": [
        {
          "output_type": "stream",
          "text": [
            "Drive already mounted at /content/drive; to attempt to forcibly remount, call drive.mount(\"/content/drive\", force_remount=True).\n"
          ],
          "name": "stdout"
        }
      ]
    },
    {
      "cell_type": "markdown",
      "metadata": {
        "id": "pIPF9w2T8Ttu"
      },
      "source": [
        "### 2. Exploración de training y testing set"
      ]
    },
    {
      "cell_type": "code",
      "metadata": {
        "id": "cIMuEYg6AzmP"
      },
      "source": [
        "path_train = '/content/drive/MyDrive/Colab Notebooks/11. Titanic machine learning/train.csv'\n",
        "path_test = '/content/drive/MyDrive/Colab Notebooks/11. Titanic machine learning/test.csv'"
      ],
      "execution_count": null,
      "outputs": []
    },
    {
      "cell_type": "code",
      "metadata": {
        "id": "rVKXnq6BpzcJ"
      },
      "source": [
        "train = pd.read_csv(path_train)\n",
        "test = pd.read_csv(path_test)"
      ],
      "execution_count": null,
      "outputs": []
    },
    {
      "cell_type": "code",
      "metadata": {
        "id": "tOvILc3Kp1G9"
      },
      "source": [
        "df = train.append(test, ignore_index=True)"
      ],
      "execution_count": null,
      "outputs": []
    },
    {
      "cell_type": "code",
      "metadata": {
        "id": "mqSj7iM98Z0j",
        "colab": {
          "base_uri": "https://localhost:8080/",
          "height": 203
        },
        "outputId": "c985e7f4-208f-4b83-856a-ed15bed98f93"
      },
      "source": [
        "df.head(5)"
      ],
      "execution_count": null,
      "outputs": [
        {
          "output_type": "execute_result",
          "data": {
            "text/html": [
              "<div>\n",
              "<style scoped>\n",
              "    .dataframe tbody tr th:only-of-type {\n",
              "        vertical-align: middle;\n",
              "    }\n",
              "\n",
              "    .dataframe tbody tr th {\n",
              "        vertical-align: top;\n",
              "    }\n",
              "\n",
              "    .dataframe thead th {\n",
              "        text-align: right;\n",
              "    }\n",
              "</style>\n",
              "<table border=\"1\" class=\"dataframe\">\n",
              "  <thead>\n",
              "    <tr style=\"text-align: right;\">\n",
              "      <th></th>\n",
              "      <th>PassengerId</th>\n",
              "      <th>Survived</th>\n",
              "      <th>Pclass</th>\n",
              "      <th>Name</th>\n",
              "      <th>Sex</th>\n",
              "      <th>Age</th>\n",
              "      <th>SibSp</th>\n",
              "      <th>Parch</th>\n",
              "      <th>Ticket</th>\n",
              "      <th>Fare</th>\n",
              "      <th>Cabin</th>\n",
              "      <th>Embarked</th>\n",
              "    </tr>\n",
              "  </thead>\n",
              "  <tbody>\n",
              "    <tr>\n",
              "      <th>0</th>\n",
              "      <td>1</td>\n",
              "      <td>0.0</td>\n",
              "      <td>3</td>\n",
              "      <td>Braund, Mr. Owen Harris</td>\n",
              "      <td>male</td>\n",
              "      <td>22.0</td>\n",
              "      <td>1</td>\n",
              "      <td>0</td>\n",
              "      <td>A/5 21171</td>\n",
              "      <td>7.2500</td>\n",
              "      <td>NaN</td>\n",
              "      <td>S</td>\n",
              "    </tr>\n",
              "    <tr>\n",
              "      <th>1</th>\n",
              "      <td>2</td>\n",
              "      <td>1.0</td>\n",
              "      <td>1</td>\n",
              "      <td>Cumings, Mrs. John Bradley (Florence Briggs Th...</td>\n",
              "      <td>female</td>\n",
              "      <td>38.0</td>\n",
              "      <td>1</td>\n",
              "      <td>0</td>\n",
              "      <td>PC 17599</td>\n",
              "      <td>71.2833</td>\n",
              "      <td>C85</td>\n",
              "      <td>C</td>\n",
              "    </tr>\n",
              "    <tr>\n",
              "      <th>2</th>\n",
              "      <td>3</td>\n",
              "      <td>1.0</td>\n",
              "      <td>3</td>\n",
              "      <td>Heikkinen, Miss. Laina</td>\n",
              "      <td>female</td>\n",
              "      <td>26.0</td>\n",
              "      <td>0</td>\n",
              "      <td>0</td>\n",
              "      <td>STON/O2. 3101282</td>\n",
              "      <td>7.9250</td>\n",
              "      <td>NaN</td>\n",
              "      <td>S</td>\n",
              "    </tr>\n",
              "    <tr>\n",
              "      <th>3</th>\n",
              "      <td>4</td>\n",
              "      <td>1.0</td>\n",
              "      <td>1</td>\n",
              "      <td>Futrelle, Mrs. Jacques Heath (Lily May Peel)</td>\n",
              "      <td>female</td>\n",
              "      <td>35.0</td>\n",
              "      <td>1</td>\n",
              "      <td>0</td>\n",
              "      <td>113803</td>\n",
              "      <td>53.1000</td>\n",
              "      <td>C123</td>\n",
              "      <td>S</td>\n",
              "    </tr>\n",
              "    <tr>\n",
              "      <th>4</th>\n",
              "      <td>5</td>\n",
              "      <td>0.0</td>\n",
              "      <td>3</td>\n",
              "      <td>Allen, Mr. William Henry</td>\n",
              "      <td>male</td>\n",
              "      <td>35.0</td>\n",
              "      <td>0</td>\n",
              "      <td>0</td>\n",
              "      <td>373450</td>\n",
              "      <td>8.0500</td>\n",
              "      <td>NaN</td>\n",
              "      <td>S</td>\n",
              "    </tr>\n",
              "  </tbody>\n",
              "</table>\n",
              "</div>"
            ],
            "text/plain": [
              "   PassengerId  Survived  Pclass  ...     Fare Cabin  Embarked\n",
              "0            1       0.0       3  ...   7.2500   NaN         S\n",
              "1            2       1.0       1  ...  71.2833   C85         C\n",
              "2            3       1.0       3  ...   7.9250   NaN         S\n",
              "3            4       1.0       1  ...  53.1000  C123         S\n",
              "4            5       0.0       3  ...   8.0500   NaN         S\n",
              "\n",
              "[5 rows x 12 columns]"
            ]
          },
          "metadata": {
            "tags": []
          },
          "execution_count": 7
        }
      ]
    },
    {
      "cell_type": "code",
      "metadata": {
        "id": "H_wvDI3s8cJK",
        "colab": {
          "base_uri": "https://localhost:8080/"
        },
        "outputId": "1ffea8d2-e3e0-4cba-aa04-9dc2c6214738"
      },
      "source": [
        "df.info()"
      ],
      "execution_count": null,
      "outputs": [
        {
          "output_type": "stream",
          "text": [
            "<class 'pandas.core.frame.DataFrame'>\n",
            "RangeIndex: 1309 entries, 0 to 1308\n",
            "Data columns (total 12 columns):\n",
            " #   Column       Non-Null Count  Dtype  \n",
            "---  ------       --------------  -----  \n",
            " 0   PassengerId  1309 non-null   int64  \n",
            " 1   Survived     891 non-null    float64\n",
            " 2   Pclass       1309 non-null   int64  \n",
            " 3   Name         1309 non-null   object \n",
            " 4   Sex          1309 non-null   object \n",
            " 5   Age          1046 non-null   float64\n",
            " 6   SibSp        1309 non-null   int64  \n",
            " 7   Parch        1309 non-null   int64  \n",
            " 8   Ticket       1309 non-null   object \n",
            " 9   Fare         1308 non-null   float64\n",
            " 10  Cabin        295 non-null    object \n",
            " 11  Embarked     1307 non-null   object \n",
            "dtypes: float64(3), int64(4), object(5)\n",
            "memory usage: 122.8+ KB\n"
          ],
          "name": "stdout"
        }
      ]
    },
    {
      "cell_type": "code",
      "metadata": {
        "colab": {
          "base_uri": "https://localhost:8080/"
        },
        "id": "Iggij9XhC6mu",
        "outputId": "e5148844-eafe-4650-f87d-fa67507447dc"
      },
      "source": [
        "# Número de valores únicos por cada columna.\n",
        "\n",
        "for col in df.columns:\n",
        "    print('{}:'.format(col), len(df['{}'.format(col)].unique()))"
      ],
      "execution_count": null,
      "outputs": [
        {
          "output_type": "stream",
          "text": [
            "PassengerId: 1309\n",
            "Survived: 3\n",
            "Pclass: 3\n",
            "Name: 1307\n",
            "Sex: 2\n",
            "Age: 99\n",
            "SibSp: 7\n",
            "Parch: 8\n",
            "Ticket: 929\n",
            "Fare: 282\n",
            "Cabin: 187\n",
            "Embarked: 4\n"
          ],
          "name": "stdout"
        }
      ]
    },
    {
      "cell_type": "markdown",
      "metadata": {
        "id": "J8vAAo6SDCuM"
      },
      "source": [
        "**No vale la pena incluir la columna \"Cabin\" ya que posee un total de 187 valores únicos y tan solo hay 295 filas con datos, la gran mayoría está vacía.**"
      ]
    },
    {
      "cell_type": "markdown",
      "metadata": {
        "id": "UzYrYTiZqI0_"
      },
      "source": [
        "**No vale la pena incluir la columna Ticket puesto que tiene 929 valores únicos, además que el ticket debería estar altamente correlacionado a la clase en la que el pasajero viajaba y al precio que este pagó.**"
      ]
    },
    {
      "cell_type": "code",
      "metadata": {
        "colab": {
          "base_uri": "https://localhost:8080/",
          "height": 295
        },
        "id": "CbXXs4vzC7Fj",
        "outputId": "ca98b293-f90c-45e5-f48f-ed7ac6c91456"
      },
      "source": [
        "df[['Age', 'SibSp', 'Parch', 'Fare']].describe()"
      ],
      "execution_count": null,
      "outputs": [
        {
          "output_type": "execute_result",
          "data": {
            "text/html": [
              "<div>\n",
              "<style scoped>\n",
              "    .dataframe tbody tr th:only-of-type {\n",
              "        vertical-align: middle;\n",
              "    }\n",
              "\n",
              "    .dataframe tbody tr th {\n",
              "        vertical-align: top;\n",
              "    }\n",
              "\n",
              "    .dataframe thead th {\n",
              "        text-align: right;\n",
              "    }\n",
              "</style>\n",
              "<table border=\"1\" class=\"dataframe\">\n",
              "  <thead>\n",
              "    <tr style=\"text-align: right;\">\n",
              "      <th></th>\n",
              "      <th>Age</th>\n",
              "      <th>SibSp</th>\n",
              "      <th>Parch</th>\n",
              "      <th>Fare</th>\n",
              "    </tr>\n",
              "  </thead>\n",
              "  <tbody>\n",
              "    <tr>\n",
              "      <th>count</th>\n",
              "      <td>1046.000000</td>\n",
              "      <td>1309.000000</td>\n",
              "      <td>1309.000000</td>\n",
              "      <td>1308.000000</td>\n",
              "    </tr>\n",
              "    <tr>\n",
              "      <th>mean</th>\n",
              "      <td>29.881138</td>\n",
              "      <td>0.498854</td>\n",
              "      <td>0.385027</td>\n",
              "      <td>33.295479</td>\n",
              "    </tr>\n",
              "    <tr>\n",
              "      <th>std</th>\n",
              "      <td>14.413493</td>\n",
              "      <td>1.041658</td>\n",
              "      <td>0.865560</td>\n",
              "      <td>51.758668</td>\n",
              "    </tr>\n",
              "    <tr>\n",
              "      <th>min</th>\n",
              "      <td>0.170000</td>\n",
              "      <td>0.000000</td>\n",
              "      <td>0.000000</td>\n",
              "      <td>0.000000</td>\n",
              "    </tr>\n",
              "    <tr>\n",
              "      <th>25%</th>\n",
              "      <td>21.000000</td>\n",
              "      <td>0.000000</td>\n",
              "      <td>0.000000</td>\n",
              "      <td>7.895800</td>\n",
              "    </tr>\n",
              "    <tr>\n",
              "      <th>50%</th>\n",
              "      <td>28.000000</td>\n",
              "      <td>0.000000</td>\n",
              "      <td>0.000000</td>\n",
              "      <td>14.454200</td>\n",
              "    </tr>\n",
              "    <tr>\n",
              "      <th>75%</th>\n",
              "      <td>39.000000</td>\n",
              "      <td>1.000000</td>\n",
              "      <td>0.000000</td>\n",
              "      <td>31.275000</td>\n",
              "    </tr>\n",
              "    <tr>\n",
              "      <th>max</th>\n",
              "      <td>80.000000</td>\n",
              "      <td>8.000000</td>\n",
              "      <td>9.000000</td>\n",
              "      <td>512.329200</td>\n",
              "    </tr>\n",
              "  </tbody>\n",
              "</table>\n",
              "</div>"
            ],
            "text/plain": [
              "               Age        SibSp        Parch         Fare\n",
              "count  1046.000000  1309.000000  1309.000000  1308.000000\n",
              "mean     29.881138     0.498854     0.385027    33.295479\n",
              "std      14.413493     1.041658     0.865560    51.758668\n",
              "min       0.170000     0.000000     0.000000     0.000000\n",
              "25%      21.000000     0.000000     0.000000     7.895800\n",
              "50%      28.000000     0.000000     0.000000    14.454200\n",
              "75%      39.000000     1.000000     0.000000    31.275000\n",
              "max      80.000000     8.000000     9.000000   512.329200"
            ]
          },
          "metadata": {
            "tags": []
          },
          "execution_count": 10
        }
      ]
    },
    {
      "cell_type": "markdown",
      "metadata": {
        "id": "L2-nF4xTDVa0"
      },
      "source": [
        "**¿Qué pasa con las celdas de la columna \"Fare\" que están en 0? ¿Cuáles son estas? ¿Son valores que hacen falta o realmente tuvieron un costo de $0?**"
      ]
    },
    {
      "cell_type": "code",
      "metadata": {
        "colab": {
          "base_uri": "https://localhost:8080/",
          "height": 590
        },
        "id": "6eaxp7f6C7Uc",
        "outputId": "fa5bc3b3-8ab7-49a1-d990-3931cab0a9d2"
      },
      "source": [
        "print(len(df[df['Fare'] == 0]))\n",
        "df[df['Fare'] == 0]"
      ],
      "execution_count": null,
      "outputs": [
        {
          "output_type": "stream",
          "text": [
            "17\n"
          ],
          "name": "stdout"
        },
        {
          "output_type": "execute_result",
          "data": {
            "text/html": [
              "<div>\n",
              "<style scoped>\n",
              "    .dataframe tbody tr th:only-of-type {\n",
              "        vertical-align: middle;\n",
              "    }\n",
              "\n",
              "    .dataframe tbody tr th {\n",
              "        vertical-align: top;\n",
              "    }\n",
              "\n",
              "    .dataframe thead th {\n",
              "        text-align: right;\n",
              "    }\n",
              "</style>\n",
              "<table border=\"1\" class=\"dataframe\">\n",
              "  <thead>\n",
              "    <tr style=\"text-align: right;\">\n",
              "      <th></th>\n",
              "      <th>PassengerId</th>\n",
              "      <th>Survived</th>\n",
              "      <th>Pclass</th>\n",
              "      <th>Name</th>\n",
              "      <th>Sex</th>\n",
              "      <th>Age</th>\n",
              "      <th>SibSp</th>\n",
              "      <th>Parch</th>\n",
              "      <th>Ticket</th>\n",
              "      <th>Fare</th>\n",
              "      <th>Cabin</th>\n",
              "      <th>Embarked</th>\n",
              "    </tr>\n",
              "  </thead>\n",
              "  <tbody>\n",
              "    <tr>\n",
              "      <th>179</th>\n",
              "      <td>180</td>\n",
              "      <td>0.0</td>\n",
              "      <td>3</td>\n",
              "      <td>Leonard, Mr. Lionel</td>\n",
              "      <td>male</td>\n",
              "      <td>36.0</td>\n",
              "      <td>0</td>\n",
              "      <td>0</td>\n",
              "      <td>LINE</td>\n",
              "      <td>0.0</td>\n",
              "      <td>NaN</td>\n",
              "      <td>S</td>\n",
              "    </tr>\n",
              "    <tr>\n",
              "      <th>263</th>\n",
              "      <td>264</td>\n",
              "      <td>0.0</td>\n",
              "      <td>1</td>\n",
              "      <td>Harrison, Mr. William</td>\n",
              "      <td>male</td>\n",
              "      <td>40.0</td>\n",
              "      <td>0</td>\n",
              "      <td>0</td>\n",
              "      <td>112059</td>\n",
              "      <td>0.0</td>\n",
              "      <td>B94</td>\n",
              "      <td>S</td>\n",
              "    </tr>\n",
              "    <tr>\n",
              "      <th>271</th>\n",
              "      <td>272</td>\n",
              "      <td>1.0</td>\n",
              "      <td>3</td>\n",
              "      <td>Tornquist, Mr. William Henry</td>\n",
              "      <td>male</td>\n",
              "      <td>25.0</td>\n",
              "      <td>0</td>\n",
              "      <td>0</td>\n",
              "      <td>LINE</td>\n",
              "      <td>0.0</td>\n",
              "      <td>NaN</td>\n",
              "      <td>S</td>\n",
              "    </tr>\n",
              "    <tr>\n",
              "      <th>277</th>\n",
              "      <td>278</td>\n",
              "      <td>0.0</td>\n",
              "      <td>2</td>\n",
              "      <td>Parkes, Mr. Francis \"Frank\"</td>\n",
              "      <td>male</td>\n",
              "      <td>NaN</td>\n",
              "      <td>0</td>\n",
              "      <td>0</td>\n",
              "      <td>239853</td>\n",
              "      <td>0.0</td>\n",
              "      <td>NaN</td>\n",
              "      <td>S</td>\n",
              "    </tr>\n",
              "    <tr>\n",
              "      <th>302</th>\n",
              "      <td>303</td>\n",
              "      <td>0.0</td>\n",
              "      <td>3</td>\n",
              "      <td>Johnson, Mr. William Cahoone Jr</td>\n",
              "      <td>male</td>\n",
              "      <td>19.0</td>\n",
              "      <td>0</td>\n",
              "      <td>0</td>\n",
              "      <td>LINE</td>\n",
              "      <td>0.0</td>\n",
              "      <td>NaN</td>\n",
              "      <td>S</td>\n",
              "    </tr>\n",
              "    <tr>\n",
              "      <th>413</th>\n",
              "      <td>414</td>\n",
              "      <td>0.0</td>\n",
              "      <td>2</td>\n",
              "      <td>Cunningham, Mr. Alfred Fleming</td>\n",
              "      <td>male</td>\n",
              "      <td>NaN</td>\n",
              "      <td>0</td>\n",
              "      <td>0</td>\n",
              "      <td>239853</td>\n",
              "      <td>0.0</td>\n",
              "      <td>NaN</td>\n",
              "      <td>S</td>\n",
              "    </tr>\n",
              "    <tr>\n",
              "      <th>466</th>\n",
              "      <td>467</td>\n",
              "      <td>0.0</td>\n",
              "      <td>2</td>\n",
              "      <td>Campbell, Mr. William</td>\n",
              "      <td>male</td>\n",
              "      <td>NaN</td>\n",
              "      <td>0</td>\n",
              "      <td>0</td>\n",
              "      <td>239853</td>\n",
              "      <td>0.0</td>\n",
              "      <td>NaN</td>\n",
              "      <td>S</td>\n",
              "    </tr>\n",
              "    <tr>\n",
              "      <th>481</th>\n",
              "      <td>482</td>\n",
              "      <td>0.0</td>\n",
              "      <td>2</td>\n",
              "      <td>Frost, Mr. Anthony Wood \"Archie\"</td>\n",
              "      <td>male</td>\n",
              "      <td>NaN</td>\n",
              "      <td>0</td>\n",
              "      <td>0</td>\n",
              "      <td>239854</td>\n",
              "      <td>0.0</td>\n",
              "      <td>NaN</td>\n",
              "      <td>S</td>\n",
              "    </tr>\n",
              "    <tr>\n",
              "      <th>597</th>\n",
              "      <td>598</td>\n",
              "      <td>0.0</td>\n",
              "      <td>3</td>\n",
              "      <td>Johnson, Mr. Alfred</td>\n",
              "      <td>male</td>\n",
              "      <td>49.0</td>\n",
              "      <td>0</td>\n",
              "      <td>0</td>\n",
              "      <td>LINE</td>\n",
              "      <td>0.0</td>\n",
              "      <td>NaN</td>\n",
              "      <td>S</td>\n",
              "    </tr>\n",
              "    <tr>\n",
              "      <th>633</th>\n",
              "      <td>634</td>\n",
              "      <td>0.0</td>\n",
              "      <td>1</td>\n",
              "      <td>Parr, Mr. William Henry Marsh</td>\n",
              "      <td>male</td>\n",
              "      <td>NaN</td>\n",
              "      <td>0</td>\n",
              "      <td>0</td>\n",
              "      <td>112052</td>\n",
              "      <td>0.0</td>\n",
              "      <td>NaN</td>\n",
              "      <td>S</td>\n",
              "    </tr>\n",
              "    <tr>\n",
              "      <th>674</th>\n",
              "      <td>675</td>\n",
              "      <td>0.0</td>\n",
              "      <td>2</td>\n",
              "      <td>Watson, Mr. Ennis Hastings</td>\n",
              "      <td>male</td>\n",
              "      <td>NaN</td>\n",
              "      <td>0</td>\n",
              "      <td>0</td>\n",
              "      <td>239856</td>\n",
              "      <td>0.0</td>\n",
              "      <td>NaN</td>\n",
              "      <td>S</td>\n",
              "    </tr>\n",
              "    <tr>\n",
              "      <th>732</th>\n",
              "      <td>733</td>\n",
              "      <td>0.0</td>\n",
              "      <td>2</td>\n",
              "      <td>Knight, Mr. Robert J</td>\n",
              "      <td>male</td>\n",
              "      <td>NaN</td>\n",
              "      <td>0</td>\n",
              "      <td>0</td>\n",
              "      <td>239855</td>\n",
              "      <td>0.0</td>\n",
              "      <td>NaN</td>\n",
              "      <td>S</td>\n",
              "    </tr>\n",
              "    <tr>\n",
              "      <th>806</th>\n",
              "      <td>807</td>\n",
              "      <td>0.0</td>\n",
              "      <td>1</td>\n",
              "      <td>Andrews, Mr. Thomas Jr</td>\n",
              "      <td>male</td>\n",
              "      <td>39.0</td>\n",
              "      <td>0</td>\n",
              "      <td>0</td>\n",
              "      <td>112050</td>\n",
              "      <td>0.0</td>\n",
              "      <td>A36</td>\n",
              "      <td>S</td>\n",
              "    </tr>\n",
              "    <tr>\n",
              "      <th>815</th>\n",
              "      <td>816</td>\n",
              "      <td>0.0</td>\n",
              "      <td>1</td>\n",
              "      <td>Fry, Mr. Richard</td>\n",
              "      <td>male</td>\n",
              "      <td>NaN</td>\n",
              "      <td>0</td>\n",
              "      <td>0</td>\n",
              "      <td>112058</td>\n",
              "      <td>0.0</td>\n",
              "      <td>B102</td>\n",
              "      <td>S</td>\n",
              "    </tr>\n",
              "    <tr>\n",
              "      <th>822</th>\n",
              "      <td>823</td>\n",
              "      <td>0.0</td>\n",
              "      <td>1</td>\n",
              "      <td>Reuchlin, Jonkheer. John George</td>\n",
              "      <td>male</td>\n",
              "      <td>38.0</td>\n",
              "      <td>0</td>\n",
              "      <td>0</td>\n",
              "      <td>19972</td>\n",
              "      <td>0.0</td>\n",
              "      <td>NaN</td>\n",
              "      <td>S</td>\n",
              "    </tr>\n",
              "    <tr>\n",
              "      <th>1157</th>\n",
              "      <td>1158</td>\n",
              "      <td>NaN</td>\n",
              "      <td>1</td>\n",
              "      <td>Chisholm, Mr. Roderick Robert Crispin</td>\n",
              "      <td>male</td>\n",
              "      <td>NaN</td>\n",
              "      <td>0</td>\n",
              "      <td>0</td>\n",
              "      <td>112051</td>\n",
              "      <td>0.0</td>\n",
              "      <td>NaN</td>\n",
              "      <td>S</td>\n",
              "    </tr>\n",
              "    <tr>\n",
              "      <th>1263</th>\n",
              "      <td>1264</td>\n",
              "      <td>NaN</td>\n",
              "      <td>1</td>\n",
              "      <td>Ismay, Mr. Joseph Bruce</td>\n",
              "      <td>male</td>\n",
              "      <td>49.0</td>\n",
              "      <td>0</td>\n",
              "      <td>0</td>\n",
              "      <td>112058</td>\n",
              "      <td>0.0</td>\n",
              "      <td>B52 B54 B56</td>\n",
              "      <td>S</td>\n",
              "    </tr>\n",
              "  </tbody>\n",
              "</table>\n",
              "</div>"
            ],
            "text/plain": [
              "      PassengerId  Survived  Pclass  ... Fare        Cabin  Embarked\n",
              "179           180       0.0       3  ...  0.0          NaN         S\n",
              "263           264       0.0       1  ...  0.0          B94         S\n",
              "271           272       1.0       3  ...  0.0          NaN         S\n",
              "277           278       0.0       2  ...  0.0          NaN         S\n",
              "302           303       0.0       3  ...  0.0          NaN         S\n",
              "413           414       0.0       2  ...  0.0          NaN         S\n",
              "466           467       0.0       2  ...  0.0          NaN         S\n",
              "481           482       0.0       2  ...  0.0          NaN         S\n",
              "597           598       0.0       3  ...  0.0          NaN         S\n",
              "633           634       0.0       1  ...  0.0          NaN         S\n",
              "674           675       0.0       2  ...  0.0          NaN         S\n",
              "732           733       0.0       2  ...  0.0          NaN         S\n",
              "806           807       0.0       1  ...  0.0          A36         S\n",
              "815           816       0.0       1  ...  0.0         B102         S\n",
              "822           823       0.0       1  ...  0.0          NaN         S\n",
              "1157         1158       NaN       1  ...  0.0          NaN         S\n",
              "1263         1264       NaN       1  ...  0.0  B52 B54 B56         S\n",
              "\n",
              "[17 rows x 12 columns]"
            ]
          },
          "metadata": {
            "tags": []
          },
          "execution_count": 11
        }
      ]
    },
    {
      "cell_type": "code",
      "metadata": {
        "colab": {
          "base_uri": "https://localhost:8080/"
        },
        "id": "kGuuitt6DeBa",
        "outputId": "04ceac17-5e97-469b-a09a-a5351e9d3c7e"
      },
      "source": [
        "fare_0 = df[df['Fare'] == 0]\n",
        "print(fare_0['Pclass'].value_counts())"
      ],
      "execution_count": null,
      "outputs": [
        {
          "output_type": "stream",
          "text": [
            "1    7\n",
            "2    6\n",
            "3    4\n",
            "Name: Pclass, dtype: int64\n"
          ],
          "name": "stdout"
        }
      ]
    },
    {
      "cell_type": "code",
      "metadata": {
        "colab": {
          "base_uri": "https://localhost:8080/",
          "height": 282
        },
        "id": "JC2cmXWKqWYD",
        "outputId": "1b6f2ea6-76cd-4b99-b2c3-17dd398551cd"
      },
      "source": [
        "fare_graph = df['Fare'].sort_values(ignore_index=True)\n",
        "fare_graph.plot(kind='line')"
      ],
      "execution_count": null,
      "outputs": [
        {
          "output_type": "execute_result",
          "data": {
            "text/plain": [
              "<matplotlib.axes._subplots.AxesSubplot at 0x7ff8000c9190>"
            ]
          },
          "metadata": {
            "tags": []
          },
          "execution_count": 13
        },
        {
          "output_type": "display_data",
          "data": {
            "image/png": "[encoded data removed]",
            "text/plain": [
              "<Figure size 432x288 with 1 Axes>"
            ]
          },
          "metadata": {
            "tags": [],
            "needs_background": "light"
          }
        }
      ]
    },
    {
      "cell_type": "markdown",
      "metadata": {
        "id": "BE1yZovpDkbm"
      },
      "source": [
        "**Hay 15 tickets en total con un precio de 0 dólares. 5 son de personas que viajaban en 1ra clase, 6 eb 2da clase, y 4 en 3ra clase. Asumiremos que el valor del ticket para estas personas fue de 0, y NO lo tomaremos como un valor faltante.**"
      ]
    },
    {
      "cell_type": "markdown",
      "metadata": {
        "id": "b7LChCYZDkva"
      },
      "source": [
        "**La columna \"Embarked\" tiene dos celdas vacías o sin datos. ¿Cuáles son estas? ¿Por qué estos dos registros tienen el mismo número de ticket?**"
      ]
    },
    {
      "cell_type": "code",
      "metadata": {
        "colab": {
          "base_uri": "https://localhost:8080/",
          "height": 110
        },
        "id": "VLyaVOj5DtEH",
        "outputId": "e8691c3e-fe4b-494a-b11b-b4f41a14ea7c"
      },
      "source": [
        "df[df['Embarked'].isnull()]"
      ],
      "execution_count": null,
      "outputs": [
        {
          "output_type": "execute_result",
          "data": {
            "text/html": [
              "<div>\n",
              "<style scoped>\n",
              "    .dataframe tbody tr th:only-of-type {\n",
              "        vertical-align: middle;\n",
              "    }\n",
              "\n",
              "    .dataframe tbody tr th {\n",
              "        vertical-align: top;\n",
              "    }\n",
              "\n",
              "    .dataframe thead th {\n",
              "        text-align: right;\n",
              "    }\n",
              "</style>\n",
              "<table border=\"1\" class=\"dataframe\">\n",
              "  <thead>\n",
              "    <tr style=\"text-align: right;\">\n",
              "      <th></th>\n",
              "      <th>PassengerId</th>\n",
              "      <th>Survived</th>\n",
              "      <th>Pclass</th>\n",
              "      <th>Name</th>\n",
              "      <th>Sex</th>\n",
              "      <th>Age</th>\n",
              "      <th>SibSp</th>\n",
              "      <th>Parch</th>\n",
              "      <th>Ticket</th>\n",
              "      <th>Fare</th>\n",
              "      <th>Cabin</th>\n",
              "      <th>Embarked</th>\n",
              "    </tr>\n",
              "  </thead>\n",
              "  <tbody>\n",
              "    <tr>\n",
              "      <th>61</th>\n",
              "      <td>62</td>\n",
              "      <td>1.0</td>\n",
              "      <td>1</td>\n",
              "      <td>Icard, Miss. Amelie</td>\n",
              "      <td>female</td>\n",
              "      <td>38.0</td>\n",
              "      <td>0</td>\n",
              "      <td>0</td>\n",
              "      <td>113572</td>\n",
              "      <td>80.0</td>\n",
              "      <td>B28</td>\n",
              "      <td>NaN</td>\n",
              "    </tr>\n",
              "    <tr>\n",
              "      <th>829</th>\n",
              "      <td>830</td>\n",
              "      <td>1.0</td>\n",
              "      <td>1</td>\n",
              "      <td>Stone, Mrs. George Nelson (Martha Evelyn)</td>\n",
              "      <td>female</td>\n",
              "      <td>62.0</td>\n",
              "      <td>0</td>\n",
              "      <td>0</td>\n",
              "      <td>113572</td>\n",
              "      <td>80.0</td>\n",
              "      <td>B28</td>\n",
              "      <td>NaN</td>\n",
              "    </tr>\n",
              "  </tbody>\n",
              "</table>\n",
              "</div>"
            ],
            "text/plain": [
              "     PassengerId  Survived  Pclass  ...  Fare Cabin  Embarked\n",
              "61            62       1.0       1  ...  80.0   B28       NaN\n",
              "829          830       1.0       1  ...  80.0   B28       NaN\n",
              "\n",
              "[2 rows x 12 columns]"
            ]
          },
          "metadata": {
            "tags": []
          },
          "execution_count": 14
        }
      ]
    },
    {
      "cell_type": "code",
      "metadata": {
        "id": "cWDpa1q8DtPP"
      },
      "source": [
        "tickets_same_number = {}\n",
        "\n",
        "for ticket in df['Ticket']:\n",
        "    if ticket not in tickets_same_number:\n",
        "        tickets_same_number[ticket] = 1\n",
        "    else:\n",
        "        tickets_same_number[ticket] += 1"
      ],
      "execution_count": null,
      "outputs": []
    },
    {
      "cell_type": "code",
      "metadata": {
        "colab": {
          "base_uri": "https://localhost:8080/"
        },
        "id": "lzvm6ONeDz8T",
        "outputId": "130b4b69-92b8-46ad-c878-4754c3380bc9"
      },
      "source": [
        "newDict = dict()\n",
        "\n",
        "for (key, value) in tickets_same_number.items():\n",
        "    if value >= 4:\n",
        "        newDict[key] = value\n",
        "print(len(newDict))\n",
        "print(newDict)"
      ],
      "execution_count": null,
      "outputs": [
        {
          "output_type": "stream",
          "text": [
            "35\n",
            "{'349909': 5, '347082': 7, '382652': 6, '347077': 7, '19950': 6, 'SC/Paris 2123': 4, '3101295': 7, 'C.A. 34651': 4, 'CA 2144': 8, '347088': 6, 'S.O.C. 14879': 7, '1601': 8, 'W./C. 6608': 5, 'C.A. 2315': 4, 'C.A. 33112': 4, 'CA. 2343': 11, '4133': 5, 'LINE': 4, '230136': 4, 'PC 17755': 4, 'PC 17760': 4, '113781': 6, '17421': 4, 'PC 17608': 7, '36928': 4, '16966': 5, '113503': 5, 'PC 17757': 5, '113760': 4, '2666': 4, '12749': 4, 'PC 17483': 4, '220845': 5, '24160': 4, 'W./C. 6607': 4}\n"
          ],
          "name": "stdout"
        }
      ]
    },
    {
      "cell_type": "code",
      "metadata": {
        "colab": {
          "base_uri": "https://localhost:8080/",
          "height": 234
        },
        "id": "MeNcI_vmD0Jh",
        "outputId": "8c0986d5-36fb-4b23-83fd-de33ad642b04"
      },
      "source": [
        "df[df['Ticket']=='347088']"
      ],
      "execution_count": null,
      "outputs": [
        {
          "output_type": "execute_result",
          "data": {
            "text/html": [
              "<div>\n",
              "<style scoped>\n",
              "    .dataframe tbody tr th:only-of-type {\n",
              "        vertical-align: middle;\n",
              "    }\n",
              "\n",
              "    .dataframe tbody tr th {\n",
              "        vertical-align: top;\n",
              "    }\n",
              "\n",
              "    .dataframe thead th {\n",
              "        text-align: right;\n",
              "    }\n",
              "</style>\n",
              "<table border=\"1\" class=\"dataframe\">\n",
              "  <thead>\n",
              "    <tr style=\"text-align: right;\">\n",
              "      <th></th>\n",
              "      <th>PassengerId</th>\n",
              "      <th>Survived</th>\n",
              "      <th>Pclass</th>\n",
              "      <th>Name</th>\n",
              "      <th>Sex</th>\n",
              "      <th>Age</th>\n",
              "      <th>SibSp</th>\n",
              "      <th>Parch</th>\n",
              "      <th>Ticket</th>\n",
              "      <th>Fare</th>\n",
              "      <th>Cabin</th>\n",
              "      <th>Embarked</th>\n",
              "    </tr>\n",
              "  </thead>\n",
              "  <tbody>\n",
              "    <tr>\n",
              "      <th>63</th>\n",
              "      <td>64</td>\n",
              "      <td>0.0</td>\n",
              "      <td>3</td>\n",
              "      <td>Skoog, Master. Harald</td>\n",
              "      <td>male</td>\n",
              "      <td>4.0</td>\n",
              "      <td>3</td>\n",
              "      <td>2</td>\n",
              "      <td>347088</td>\n",
              "      <td>27.9</td>\n",
              "      <td>NaN</td>\n",
              "      <td>S</td>\n",
              "    </tr>\n",
              "    <tr>\n",
              "      <th>167</th>\n",
              "      <td>168</td>\n",
              "      <td>0.0</td>\n",
              "      <td>3</td>\n",
              "      <td>Skoog, Mrs. William (Anna Bernhardina Karlsson)</td>\n",
              "      <td>female</td>\n",
              "      <td>45.0</td>\n",
              "      <td>1</td>\n",
              "      <td>4</td>\n",
              "      <td>347088</td>\n",
              "      <td>27.9</td>\n",
              "      <td>NaN</td>\n",
              "      <td>S</td>\n",
              "    </tr>\n",
              "    <tr>\n",
              "      <th>360</th>\n",
              "      <td>361</td>\n",
              "      <td>0.0</td>\n",
              "      <td>3</td>\n",
              "      <td>Skoog, Mr. Wilhelm</td>\n",
              "      <td>male</td>\n",
              "      <td>40.0</td>\n",
              "      <td>1</td>\n",
              "      <td>4</td>\n",
              "      <td>347088</td>\n",
              "      <td>27.9</td>\n",
              "      <td>NaN</td>\n",
              "      <td>S</td>\n",
              "    </tr>\n",
              "    <tr>\n",
              "      <th>634</th>\n",
              "      <td>635</td>\n",
              "      <td>0.0</td>\n",
              "      <td>3</td>\n",
              "      <td>Skoog, Miss. Mabel</td>\n",
              "      <td>female</td>\n",
              "      <td>9.0</td>\n",
              "      <td>3</td>\n",
              "      <td>2</td>\n",
              "      <td>347088</td>\n",
              "      <td>27.9</td>\n",
              "      <td>NaN</td>\n",
              "      <td>S</td>\n",
              "    </tr>\n",
              "    <tr>\n",
              "      <th>642</th>\n",
              "      <td>643</td>\n",
              "      <td>0.0</td>\n",
              "      <td>3</td>\n",
              "      <td>Skoog, Miss. Margit Elizabeth</td>\n",
              "      <td>female</td>\n",
              "      <td>2.0</td>\n",
              "      <td>3</td>\n",
              "      <td>2</td>\n",
              "      <td>347088</td>\n",
              "      <td>27.9</td>\n",
              "      <td>NaN</td>\n",
              "      <td>S</td>\n",
              "    </tr>\n",
              "    <tr>\n",
              "      <th>819</th>\n",
              "      <td>820</td>\n",
              "      <td>0.0</td>\n",
              "      <td>3</td>\n",
              "      <td>Skoog, Master. Karl Thorsten</td>\n",
              "      <td>male</td>\n",
              "      <td>10.0</td>\n",
              "      <td>3</td>\n",
              "      <td>2</td>\n",
              "      <td>347088</td>\n",
              "      <td>27.9</td>\n",
              "      <td>NaN</td>\n",
              "      <td>S</td>\n",
              "    </tr>\n",
              "  </tbody>\n",
              "</table>\n",
              "</div>"
            ],
            "text/plain": [
              "     PassengerId  Survived  Pclass  ...  Fare Cabin  Embarked\n",
              "63            64       0.0       3  ...  27.9   NaN         S\n",
              "167          168       0.0       3  ...  27.9   NaN         S\n",
              "360          361       0.0       3  ...  27.9   NaN         S\n",
              "634          635       0.0       3  ...  27.9   NaN         S\n",
              "642          643       0.0       3  ...  27.9   NaN         S\n",
              "819          820       0.0       3  ...  27.9   NaN         S\n",
              "\n",
              "[6 rows x 12 columns]"
            ]
          },
          "metadata": {
            "tags": []
          },
          "execution_count": 17
        }
      ]
    },
    {
      "cell_type": "markdown",
      "metadata": {
        "id": "BFYTkHtAEBfh"
      },
      "source": [
        "**Hay 19 números de ticket que se repiten en la base de datos más de cuatro veces. Parece ser que estas son personas que viajaban acompañadas con hermanos, padres, esposos, o hijos. Este puede ser un buen dato a tomar en cuenta para la predicción.**"
      ]
    },
    {
      "cell_type": "markdown",
      "metadata": {
        "id": "xRz8VaJzEEZI"
      },
      "source": [
        "### 3. Data cleaning y feature engineering"
      ]
    },
    {
      "cell_type": "markdown",
      "metadata": {
        "id": "iKLEt4dHEeak"
      },
      "source": [
        "#### 3.1 Eliminar la columna \"Cabin\" y \"Ticket\"."
      ]
    },
    {
      "cell_type": "code",
      "metadata": {
        "id": "UZXRL1JwEmLt"
      },
      "source": [
        "df = df.drop('Ticket', axis = 1)\n",
        "df = df.drop('Cabin', axis = 1)"
      ],
      "execution_count": null,
      "outputs": []
    },
    {
      "cell_type": "markdown",
      "metadata": {
        "id": "Pyo6SNuP-PIK"
      },
      "source": [
        "#### 3.2 Extraer el título de la persona a partir de \"Name\"."
      ]
    },
    {
      "cell_type": "markdown",
      "metadata": {
        "id": "WfjVlcsG-nub"
      },
      "source": [
        "**El rendimiento del modelo aumentó al incluir esta característica, pero solo en este modelo.**"
      ]
    },
    {
      "cell_type": "code",
      "metadata": {
        "id": "xIHdN-PWrVa2",
        "colab": {
          "base_uri": "https://localhost:8080/"
        },
        "outputId": "b2a38916-9d59-4386-a213-cda966f4f016"
      },
      "source": [
        "df['Title'] = df['Name'].apply(lambda x: x.split(',')[1].split('.')[0].strip())\n",
        "print(df['Title'].unique())\n",
        "\n",
        "summarized_titles = {\n",
        "    \"Capt\":       \"Officer\",\n",
        "    \"Col\":        \"Officer\",\n",
        "    \"Major\":      \"Officer\",\n",
        "    \"Jonkheer\":   \"Royalty\",\n",
        "    \"Don\":        \"Royalty\",\n",
        "    \"Sir\" :       \"Royalty\",\n",
        "    \"Dr\":         \"Officer\",\n",
        "    \"Rev\":        \"Officer\",\n",
        "    \"the Countess\":\"Royalty\",\n",
        "    \"Dona\":       \"Royalty\",\n",
        "    \"Mme\":        \"Mrs\",\n",
        "    \"Mlle\":       \"Miss\",\n",
        "    \"Ms\":         \"Mrs\",\n",
        "    \"Mr\" :        \"Mr\",\n",
        "    \"Mrs\" :       \"Mrs\",\n",
        "    \"Miss\" :      \"Miss\",\n",
        "    \"Master\" :    \"Master\",\n",
        "    \"Lady\" :      \"Royalty\"}\n",
        "\n",
        "df.Title = df.Title.map(summarized_titles)\n",
        "print(df['Title'].value_counts())"
      ],
      "execution_count": null,
      "outputs": [
        {
          "output_type": "stream",
          "text": [
            "['Mr' 'Mrs' 'Miss' 'Master' 'Don' 'Rev' 'Dr' 'Mme' 'Ms' 'Major' 'Lady'\n",
            " 'Sir' 'Mlle' 'Col' 'Capt' 'the Countess' 'Jonkheer' 'Dona']\n",
            "Mr         757\n",
            "Miss       262\n",
            "Mrs        200\n",
            "Master      61\n",
            "Officer     23\n",
            "Royalty      6\n",
            "Name: Title, dtype: int64\n"
          ],
          "name": "stdout"
        }
      ]
    },
    {
      "cell_type": "code",
      "metadata": {
        "colab": {
          "base_uri": "https://localhost:8080/",
          "height": 323
        },
        "id": "SLAXqy4v-vt7",
        "outputId": "e9860b64-be54-4b64-aa49-e8ba1e7e81e3"
      },
      "source": [
        "df[['Title', 'Survived']].groupby('Title')['Survived'].mean().plot(kind='bar')"
      ],
      "execution_count": null,
      "outputs": [
        {
          "output_type": "execute_result",
          "data": {
            "text/plain": [
              "<matplotlib.axes._subplots.AxesSubplot at 0x7ff7ffb0fad0>"
            ]
          },
          "metadata": {
            "tags": []
          },
          "execution_count": 20
        },
        {
          "output_type": "display_data",
          "data": {
            "image/png": "[encoded data removed]",
            "text/plain": [
              "<Figure size 432x288 with 1 Axes>"
            ]
          },
          "metadata": {
            "tags": [],
            "needs_background": "light"
          }
        }
      ]
    },
    {
      "cell_type": "markdown",
      "metadata": {
        "id": "iGBjhGjHEsuX"
      },
      "source": [
        "#### 3.3 Imputar valores en blanco de \"Embarked\" según la moda."
      ]
    },
    {
      "cell_type": "code",
      "metadata": {
        "id": "xeKTpPLJEtCS",
        "colab": {
          "base_uri": "https://localhost:8080/"
        },
        "outputId": "78defcc9-27ac-4452-e9e9-36665dd62094"
      },
      "source": [
        "print(df['Embarked'].value_counts())"
      ],
      "execution_count": null,
      "outputs": [
        {
          "output_type": "stream",
          "text": [
            "S    914\n",
            "C    270\n",
            "Q    123\n",
            "Name: Embarked, dtype: int64\n"
          ],
          "name": "stdout"
        }
      ]
    },
    {
      "cell_type": "code",
      "metadata": {
        "id": "MRqJVhSXEtNX"
      },
      "source": [
        "df['Embarked'] = df['Embarked'].fillna(value = 'S')"
      ],
      "execution_count": null,
      "outputs": []
    },
    {
      "cell_type": "markdown",
      "metadata": {
        "id": "vu2CUhbtrssK"
      },
      "source": [
        "#### 3.4 Imputar valores en blanco de \"Age\" basado en el promedio."
      ]
    },
    {
      "cell_type": "code",
      "metadata": {
        "colab": {
          "base_uri": "https://localhost:8080/"
        },
        "id": "frWout6gr0kB",
        "outputId": "99f611b9-c53e-4089-c85e-5b301dc2cdcc"
      },
      "source": [
        "df.groupby(['Sex', 'Pclass', 'Title'])['Age'].mean()"
      ],
      "execution_count": null,
      "outputs": [
        {
          "output_type": "execute_result",
          "data": {
            "text/plain": [
              "Sex     Pclass  Title  \n",
              "female  1       Miss       30.131148\n",
              "                Mrs        42.926471\n",
              "                Officer    49.000000\n",
              "                Royalty    40.000000\n",
              "        2       Miss       20.717083\n",
              "                Mrs        33.418182\n",
              "        3       Miss       17.360874\n",
              "                Mrs        32.326531\n",
              "male    1       Master      6.984000\n",
              "                Mr         41.450758\n",
              "                Officer    51.090909\n",
              "                Royalty    42.333333\n",
              "        2       Master      2.757273\n",
              "                Mr         32.346715\n",
              "                Officer    40.700000\n",
              "        3       Master      6.090000\n",
              "                Mr         28.318910\n",
              "Name: Age, dtype: float64"
            ]
          },
          "metadata": {
            "tags": []
          },
          "execution_count": 23
        }
      ]
    },
    {
      "cell_type": "code",
      "metadata": {
        "id": "FiX8MZXLrzT1"
      },
      "source": [
        "df['Age'] = df.groupby(['Sex', 'Pclass', 'Title'])['Age'].apply(lambda x: x.fillna(x.mean()))"
      ],
      "execution_count": null,
      "outputs": []
    },
    {
      "cell_type": "markdown",
      "metadata": {
        "id": "a88p-crmEtnj"
      },
      "source": [
        "#### 3.5 Convertir las edades de \"Age\" a rangos de 4 categorías."
      ]
    },
    {
      "cell_type": "code",
      "metadata": {
        "id": "64ZIBkVSEuC_"
      },
      "source": [
        "df['Age'] = pd.cut(df['Age'], bins=[-1,16,32,64,120], right=True, \n",
        "                        labels=False)"
      ],
      "execution_count": null,
      "outputs": []
    },
    {
      "cell_type": "code",
      "metadata": {
        "colab": {
          "base_uri": "https://localhost:8080/"
        },
        "id": "sX1uxRISsLeq",
        "outputId": "13de8618-55a7-41ac-ff5c-bfe59509e173"
      },
      "source": [
        "df['Age'].value_counts()"
      ],
      "execution_count": null,
      "outputs": [
        {
          "output_type": "execute_result",
          "data": {
            "text/plain": [
              "1    710\n",
              "2    444\n",
              "0    142\n",
              "3     13\n",
              "Name: Age, dtype: int64"
            ]
          },
          "metadata": {
            "tags": []
          },
          "execution_count": 26
        }
      ]
    },
    {
      "cell_type": "code",
      "metadata": {
        "colab": {
          "base_uri": "https://localhost:8080/",
          "height": 293
        },
        "id": "i6golSzusOoU",
        "outputId": "cdfbe2b1-4ade-481b-92d0-5f0acb045818"
      },
      "source": [
        "df[['Age', 'Survived']].groupby('Age')['Survived'].mean().plot(kind='bar')"
      ],
      "execution_count": null,
      "outputs": [
        {
          "output_type": "execute_result",
          "data": {
            "text/plain": [
              "<matplotlib.axes._subplots.AxesSubplot at 0x7ff800031710>"
            ]
          },
          "metadata": {
            "tags": []
          },
          "execution_count": 27
        },
        {
          "output_type": "display_data",
          "data": {
            "image/png": "[encoded data removed]",
            "text/plain": [
              "<Figure size 432x288 with 1 Axes>"
            ]
          },
          "metadata": {
            "tags": [],
            "needs_background": "light"
          }
        }
      ]
    },
    {
      "cell_type": "markdown",
      "metadata": {
        "id": "OvEaJqPSvgWM"
      },
      "source": [
        "#### 3.6 Imputar valores en blanco de Fare basado en el promedio."
      ]
    },
    {
      "cell_type": "code",
      "metadata": {
        "colab": {
          "base_uri": "https://localhost:8080/"
        },
        "id": "fftH7-Tgvrk8",
        "outputId": "b07518b1-451a-48ac-8523-7dac66b6f074"
      },
      "source": [
        "df.groupby(['Pclass', 'Title'])['Fare'].mean()"
      ],
      "execution_count": null,
      "outputs": [
        {
          "output_type": "execute_result",
          "data": {
            "text/plain": [
              "Pclass  Title  \n",
              "1       Master     150.056660\n",
              "        Miss       127.934544\n",
              "        Mr          68.260090\n",
              "        Mrs         96.955288\n",
              "        Officer     65.204808\n",
              "        Royalty     53.275000\n",
              "2       Master      27.386745\n",
              "        Miss        22.571500\n",
              "        Mr          19.527443\n",
              "        Mrs         23.827084\n",
              "        Officer     17.337500\n",
              "3       Master      25.443609\n",
              "        Miss        14.375697\n",
              "        Mr          11.103904\n",
              "        Mrs         17.480050\n",
              "Name: Fare, dtype: float64"
            ]
          },
          "metadata": {
            "tags": []
          },
          "execution_count": 28
        }
      ]
    },
    {
      "cell_type": "code",
      "metadata": {
        "id": "PFoD_2itvruq"
      },
      "source": [
        "df['Fare'] = df.groupby(['Pclass', 'Title'])['Fare'].apply(lambda x: x.fillna(x.mean()))"
      ],
      "execution_count": null,
      "outputs": []
    },
    {
      "cell_type": "markdown",
      "metadata": {
        "id": "CxY-2nXnvkPH"
      },
      "source": [
        "#### 3.7 Convertir las precios de \"Fare\" a rangos de 3 categorías."
      ]
    },
    {
      "cell_type": "code",
      "metadata": {
        "id": "P-wjKNHRsXSZ"
      },
      "source": [
        "df['Fare'] = pd.cut(df['Fare'], bins=[-1,10.5,41.6,515], right=True, \n",
        "                        labels=False)"
      ],
      "execution_count": null,
      "outputs": []
    },
    {
      "cell_type": "code",
      "metadata": {
        "colab": {
          "base_uri": "https://localhost:8080/"
        },
        "id": "mN-4tUszsWg7",
        "outputId": "5d2aee9f-d7ff-429e-e322-4367a2e78a08"
      },
      "source": [
        "df['Fare'].value_counts()"
      ],
      "execution_count": null,
      "outputs": [
        {
          "output_type": "execute_result",
          "data": {
            "text/plain": [
              "0    529\n",
              "1    521\n",
              "2    259\n",
              "Name: Fare, dtype: int64"
            ]
          },
          "metadata": {
            "tags": []
          },
          "execution_count": 31
        }
      ]
    },
    {
      "cell_type": "code",
      "metadata": {
        "colab": {
          "base_uri": "https://localhost:8080/",
          "height": 293
        },
        "id": "dSQgDJscv_AT",
        "outputId": "2a9dfb1e-16d8-4ec0-81b2-7118cd84ac1e"
      },
      "source": [
        "df[['Fare', 'Survived']].groupby('Fare')['Survived'].mean().plot(kind='bar')"
      ],
      "execution_count": null,
      "outputs": [
        {
          "output_type": "execute_result",
          "data": {
            "text/plain": [
              "<matplotlib.axes._subplots.AxesSubplot at 0x7ff7ffa06350>"
            ]
          },
          "metadata": {
            "tags": []
          },
          "execution_count": 32
        },
        {
          "output_type": "display_data",
          "data": {
            "image/png": "[encoded data removed]",
            "text/plain": [
              "<Figure size 432x288 with 1 Axes>"
            ]
          },
          "metadata": {
            "tags": [],
            "needs_background": "light"
          }
        }
      ]
    },
    {
      "cell_type": "markdown",
      "metadata": {
        "id": "WGmP3wvHwGYt"
      },
      "source": [
        "#### 3.8 Crear columna con el total de acompañantes."
      ]
    },
    {
      "cell_type": "code",
      "metadata": {
        "id": "Dvk9QZOTv_Rf"
      },
      "source": [
        "df['TotalAcompañantes'] = df['SibSp'] + df['Parch']"
      ],
      "execution_count": null,
      "outputs": []
    },
    {
      "cell_type": "markdown",
      "metadata": {
        "id": "HqHzn3MlwQgR"
      },
      "source": [
        "#### 3.9 Convertir el no. de acompañantes a rangos de 2 categorías."
      ]
    },
    {
      "cell_type": "code",
      "metadata": {
        "id": "CrwPeCqUwTkj"
      },
      "source": [
        "df['Acompañantes'] = pd.cut(df['TotalAcompañantes'], bins=[-1,0,3,12], right=True, \n",
        "                        labels=False)"
      ],
      "execution_count": null,
      "outputs": []
    },
    {
      "cell_type": "code",
      "metadata": {
        "colab": {
          "base_uri": "https://localhost:8080/"
        },
        "id": "Kr8u_GJowTy6",
        "outputId": "6a5631e9-ff32-4fd4-c490-1f14162c07f1"
      },
      "source": [
        "df['Acompañantes'].value_counts()"
      ],
      "execution_count": null,
      "outputs": [
        {
          "output_type": "execute_result",
          "data": {
            "text/plain": [
              "0    790\n",
              "1    437\n",
              "2     82\n",
              "Name: Acompañantes, dtype: int64"
            ]
          },
          "metadata": {
            "tags": []
          },
          "execution_count": 35
        }
      ]
    },
    {
      "cell_type": "code",
      "metadata": {
        "colab": {
          "base_uri": "https://localhost:8080/",
          "height": 294
        },
        "id": "yxbp9nPzAN_i",
        "outputId": "95346588-0053-44de-eda2-6e838f0578b5"
      },
      "source": [
        "df[['Acompañantes', 'Survived']].groupby('Acompañantes')['Survived'].mean().plot(kind='bar')"
      ],
      "execution_count": null,
      "outputs": [
        {
          "output_type": "execute_result",
          "data": {
            "text/plain": [
              "<matplotlib.axes._subplots.AxesSubplot at 0x7ff7ff9e5210>"
            ]
          },
          "metadata": {
            "tags": []
          },
          "execution_count": 36
        },
        {
          "output_type": "display_data",
          "data": {
            "image/png": "[encoded data removed]",
            "text/plain": [
              "<Figure size 432x288 with 1 Axes>"
            ]
          },
          "metadata": {
            "tags": [],
            "needs_background": "light"
          }
        }
      ]
    },
    {
      "cell_type": "markdown",
      "metadata": {
        "id": "wcaKq4Qbwc8s"
      },
      "source": [
        "#### 3.10 Convertir \"Sex\" y \"Embarked\" a código númerico."
      ]
    },
    {
      "cell_type": "code",
      "metadata": {
        "id": "L0rT5OiMwT1v"
      },
      "source": [
        "df['Sex'] = df['Sex'].map({'male': 0, 'female': 1})"
      ],
      "execution_count": null,
      "outputs": []
    },
    {
      "cell_type": "code",
      "metadata": {
        "id": "a2RiCC_lAVzW"
      },
      "source": [
        "df['Title'] = df['Title'].map({'Mr': 0, 'Miss': 1, 'Mrs': 2, 'Master': 3, 'Officer': 4, 'Royalty': 5})"
      ],
      "execution_count": null,
      "outputs": []
    },
    {
      "cell_type": "code",
      "metadata": {
        "id": "cLBQ2Qa5wT4l"
      },
      "source": [
        "df['Embarked'] = df['Embarked'].map({'S': 0, 'C': 1, 'Q': 2})"
      ],
      "execution_count": null,
      "outputs": []
    },
    {
      "cell_type": "markdown",
      "metadata": {
        "id": "Cpz8v7d2wjpg"
      },
      "source": [
        "#### 3.11 Eliminar la columnas de \"SibSp\" y \"Parch\"."
      ]
    },
    {
      "cell_type": "code",
      "metadata": {
        "id": "HLzNRaTWwkVx"
      },
      "source": [
        "df = df.drop('Name', axis = 1)\n",
        "df = df.drop('SibSp', axis = 1)\n",
        "df = df.drop('Parch', axis = 1)"
      ],
      "execution_count": null,
      "outputs": []
    },
    {
      "cell_type": "markdown",
      "metadata": {
        "id": "kZ4dq4-twwGu"
      },
      "source": [
        "#### 3.11 Explorar base de datos limpia y con nuevos features."
      ]
    },
    {
      "cell_type": "code",
      "metadata": {
        "colab": {
          "base_uri": "https://localhost:8080/",
          "height": 142
        },
        "id": "TepJDLT8wk_B",
        "outputId": "cfdd774d-a008-40ac-d960-553bb2e76695"
      },
      "source": [
        "df.head(3)"
      ],
      "execution_count": null,
      "outputs": [
        {
          "output_type": "execute_result",
          "data": {
            "text/html": [
              "<div>\n",
              "<style scoped>\n",
              "    .dataframe tbody tr th:only-of-type {\n",
              "        vertical-align: middle;\n",
              "    }\n",
              "\n",
              "    .dataframe tbody tr th {\n",
              "        vertical-align: top;\n",
              "    }\n",
              "\n",
              "    .dataframe thead th {\n",
              "        text-align: right;\n",
              "    }\n",
              "</style>\n",
              "<table border=\"1\" class=\"dataframe\">\n",
              "  <thead>\n",
              "    <tr style=\"text-align: right;\">\n",
              "      <th></th>\n",
              "      <th>PassengerId</th>\n",
              "      <th>Survived</th>\n",
              "      <th>Pclass</th>\n",
              "      <th>Sex</th>\n",
              "      <th>Age</th>\n",
              "      <th>Fare</th>\n",
              "      <th>Embarked</th>\n",
              "      <th>Title</th>\n",
              "      <th>TotalAcompañantes</th>\n",
              "      <th>Acompañantes</th>\n",
              "    </tr>\n",
              "  </thead>\n",
              "  <tbody>\n",
              "    <tr>\n",
              "      <th>0</th>\n",
              "      <td>1</td>\n",
              "      <td>0.0</td>\n",
              "      <td>3</td>\n",
              "      <td>0</td>\n",
              "      <td>1</td>\n",
              "      <td>0</td>\n",
              "      <td>0</td>\n",
              "      <td>0</td>\n",
              "      <td>1</td>\n",
              "      <td>1</td>\n",
              "    </tr>\n",
              "    <tr>\n",
              "      <th>1</th>\n",
              "      <td>2</td>\n",
              "      <td>1.0</td>\n",
              "      <td>1</td>\n",
              "      <td>1</td>\n",
              "      <td>2</td>\n",
              "      <td>2</td>\n",
              "      <td>1</td>\n",
              "      <td>2</td>\n",
              "      <td>1</td>\n",
              "      <td>1</td>\n",
              "    </tr>\n",
              "    <tr>\n",
              "      <th>2</th>\n",
              "      <td>3</td>\n",
              "      <td>1.0</td>\n",
              "      <td>3</td>\n",
              "      <td>1</td>\n",
              "      <td>1</td>\n",
              "      <td>0</td>\n",
              "      <td>0</td>\n",
              "      <td>1</td>\n",
              "      <td>0</td>\n",
              "      <td>0</td>\n",
              "    </tr>\n",
              "  </tbody>\n",
              "</table>\n",
              "</div>"
            ],
            "text/plain": [
              "   PassengerId  Survived  Pclass  ...  Title  TotalAcompañantes  Acompañantes\n",
              "0            1       0.0       3  ...      0                  1             1\n",
              "1            2       1.0       1  ...      2                  1             1\n",
              "2            3       1.0       3  ...      1                  0             0\n",
              "\n",
              "[3 rows x 10 columns]"
            ]
          },
          "metadata": {
            "tags": []
          },
          "execution_count": 41
        }
      ]
    },
    {
      "cell_type": "code",
      "metadata": {
        "colab": {
          "base_uri": "https://localhost:8080/"
        },
        "id": "JV5uyBUZw2gQ",
        "outputId": "61e96904-b098-4b41-9a12-452a524cf955"
      },
      "source": [
        "df.info()"
      ],
      "execution_count": null,
      "outputs": [
        {
          "output_type": "stream",
          "text": [
            "<class 'pandas.core.frame.DataFrame'>\n",
            "RangeIndex: 1309 entries, 0 to 1308\n",
            "Data columns (total 10 columns):\n",
            " #   Column             Non-Null Count  Dtype  \n",
            "---  ------             --------------  -----  \n",
            " 0   PassengerId        1309 non-null   int64  \n",
            " 1   Survived           891 non-null    float64\n",
            " 2   Pclass             1309 non-null   int64  \n",
            " 3   Sex                1309 non-null   int64  \n",
            " 4   Age                1309 non-null   int64  \n",
            " 5   Fare               1309 non-null   int64  \n",
            " 6   Embarked           1309 non-null   int64  \n",
            " 7   Title              1309 non-null   int64  \n",
            " 8   TotalAcompañantes  1309 non-null   int64  \n",
            " 9   Acompañantes       1309 non-null   int64  \n",
            "dtypes: float64(1), int64(9)\n",
            "memory usage: 102.4 KB\n"
          ],
          "name": "stdout"
        }
      ]
    },
    {
      "cell_type": "code",
      "metadata": {
        "colab": {
          "base_uri": "https://localhost:8080/",
          "height": 374
        },
        "id": "bsCLVxsNw2os",
        "outputId": "d7680ee4-b5dc-44cd-c78f-25bc2979be2f"
      },
      "source": [
        "sns.heatmap(df.corr(), annot = True, cmap = 'coolwarm')"
      ],
      "execution_count": null,
      "outputs": [
        {
          "output_type": "execute_result",
          "data": {
            "text/plain": [
              "<matplotlib.axes._subplots.AxesSubplot at 0x7ff7ff95be90>"
            ]
          },
          "metadata": {
            "tags": []
          },
          "execution_count": 43
        },
        {
          "output_type": "display_data",
          "data": {
            "image/png": "[encoded data removed]",
            "text/plain": [
              "<Figure size 432x288 with 2 Axes>"
            ]
          },
          "metadata": {
            "tags": [],
            "needs_background": "light"
          }
        }
      ]
    },
    {
      "cell_type": "markdown",
      "metadata": {
        "id": "ZNk8qo6Cw7mb"
      },
      "source": [
        "### 4. Separación de training y testing set"
      ]
    },
    {
      "cell_type": "code",
      "metadata": {
        "id": "oTUmm1ezxAHt"
      },
      "source": [
        "train_cleaned = df.loc[:890]\n",
        "test_cleaned = df.loc[891:].reset_index(drop=True)"
      ],
      "execution_count": null,
      "outputs": []
    },
    {
      "cell_type": "code",
      "metadata": {
        "id": "mLygiu6ExAT2"
      },
      "source": [
        "y_train = train_cleaned['Survived'].values\n",
        "y_train = to_categorical(y_train, 2)\n",
        "x_train = train_cleaned.drop(['PassengerId', 'Survived'], axis=1).values"
      ],
      "execution_count": null,
      "outputs": []
    },
    {
      "cell_type": "code",
      "metadata": {
        "id": "p2IR4eSwxAXJ"
      },
      "source": [
        "x_test = test_cleaned.drop(['PassengerId', 'Survived'], axis=1).values\n",
        "id_test = test_cleaned['PassengerId']"
      ],
      "execution_count": null,
      "outputs": []
    },
    {
      "cell_type": "code",
      "metadata": {
        "colab": {
          "base_uri": "https://localhost:8080/"
        },
        "id": "bWwjbFpQAyoa",
        "outputId": "55122b0a-a349-48d8-c4e8-bfc8a345eebd"
      },
      "source": [
        "print(x_train.shape)\n",
        "print(y_train.shape)\n",
        "print(x_test.shape)"
      ],
      "execution_count": null,
      "outputs": [
        {
          "output_type": "stream",
          "text": [
            "(891, 8)\n",
            "(891, 2)\n",
            "(418, 8)\n"
          ],
          "name": "stdout"
        }
      ]
    },
    {
      "cell_type": "markdown",
      "metadata": {
        "id": "-cuxiLkSA0Zr"
      },
      "source": [
        "#### 4.1 Normalize all the features."
      ]
    },
    {
      "cell_type": "code",
      "metadata": {
        "id": "oI7QJgzuA4sH"
      },
      "source": [
        "normalizer = preprocessing.StandardScaler()\n",
        "normalizer = normalizer.fit(x_train)"
      ],
      "execution_count": null,
      "outputs": []
    },
    {
      "cell_type": "code",
      "metadata": {
        "id": "3Zop0_tNA427"
      },
      "source": [
        "x_train = normalizer.transform(x_train)"
      ],
      "execution_count": null,
      "outputs": []
    },
    {
      "cell_type": "code",
      "metadata": {
        "colab": {
          "base_uri": "https://localhost:8080/"
        },
        "id": "IUOLnGCrA4-w",
        "outputId": "e000322e-c0a6-4282-e886-46c457048dcf"
      },
      "source": [
        "print(normalizer.mean_)"
      ],
      "execution_count": null,
      "outputs": [
        {
          "output_type": "stream",
          "text": [
            "[2.30864198 0.35241302 1.24915825 0.78563412 0.36139169 0.73512907\n",
            " 0.90460157 0.46689113]\n"
          ],
          "name": "stdout"
        }
      ]
    },
    {
      "cell_type": "code",
      "metadata": {
        "id": "Hb5il57dA5Ew"
      },
      "source": [
        "x_test = normalizer.transform(x_test)"
      ],
      "execution_count": null,
      "outputs": []
    },
    {
      "cell_type": "markdown",
      "metadata": {
        "id": "yrlXPFcMxPCa"
      },
      "source": [
        "### 5. Multi-Layer Perceptron deep learning model"
      ]
    },
    {
      "cell_type": "code",
      "metadata": {
        "colab": {
          "base_uri": "https://localhost:8080/"
        },
        "id": "b3pipka7BDbc",
        "outputId": "faddf073-a015-444a-e664-29cffb4075dc"
      },
      "source": [
        "# shape of the input\n",
        "input_shape = (8,)\n",
        "\n",
        "#set up model\n",
        "model = Sequential()\n",
        "\n",
        "model.add(Dense(units = 32, input_shape = input_shape, activation='relu'))\n",
        "model.add(Dropout(0.5))\n",
        "model.add(Dense(units = 16, activation='relu'))\n",
        "model.add(Dropout(0.5))\n",
        "model.add(Dense(units = 8, activation='relu'))\n",
        "model.add(Dropout(0.5))\n",
        "model.add(Dense(units = 4, activation='relu'))\n",
        "model.add(Dense(units = 2, activation='softmax'))\n",
        "\n",
        "model.summary()\n",
        "\n",
        "model.compile(loss='categorical_crossentropy',optimizer='adam', metrics=['accuracy'])"
      ],
      "execution_count": null,
      "outputs": [
        {
          "output_type": "stream",
          "text": [
            "Model: \"sequential\"\n",
            "_________________________________________________________________\n",
            "Layer (type)                 Output Shape              Param #   \n",
            "=================================================================\n",
            "dense (Dense)                (None, 32)                288       \n",
            "_________________________________________________________________\n",
            "dropout (Dropout)            (None, 32)                0         \n",
            "_________________________________________________________________\n",
            "dense_1 (Dense)              (None, 16)                528       \n",
            "_________________________________________________________________\n",
            "dropout_1 (Dropout)          (None, 16)                0         \n",
            "_________________________________________________________________\n",
            "dense_2 (Dense)              (None, 8)                 136       \n",
            "_________________________________________________________________\n",
            "dropout_2 (Dropout)          (None, 8)                 0         \n",
            "_________________________________________________________________\n",
            "dense_3 (Dense)              (None, 4)                 36        \n",
            "_________________________________________________________________\n",
            "dense_4 (Dense)              (None, 2)                 10        \n",
            "=================================================================\n",
            "Total params: 998\n",
            "Trainable params: 998\n",
            "Non-trainable params: 0\n",
            "_________________________________________________________________\n"
          ],
          "name": "stdout"
        }
      ]
    },
    {
      "cell_type": "markdown",
      "metadata": {
        "id": "uy2GQcqoxU5f"
      },
      "source": [
        "#### 5.1 Training del modelo."
      ]
    },
    {
      "cell_type": "code",
      "metadata": {
        "id": "Vx5eNdyuVYMi"
      },
      "source": [
        "# habilitar opción para guardar los pesos del mejor modelo.\n",
        "\n",
        "filepath= 'best_weights.hdf5'\n",
        "checkpoint = ModelCheckpoint(filepath, monitor='val_loss', verbose=1, \n",
        "                             save_best_only=True, mode='min')"
      ],
      "execution_count": null,
      "outputs": []
    },
    {
      "cell_type": "code",
      "metadata": {
        "id": "daiY4J06VYiQ"
      },
      "source": [
        "callbacks_list = [checkpoint]"
      ],
      "execution_count": null,
      "outputs": []
    },
    {
      "cell_type": "code",
      "metadata": {
        "colab": {
          "base_uri": "https://localhost:8080/"
        },
        "id": "1xF3EaDfBKQC",
        "outputId": "b9a31114-8d5b-425d-a38c-7d3169d72508"
      },
      "source": [
        "# training del modelo.\n",
        "\n",
        "model.fit(x=x_train, y=y_train, epochs=300, batch_size=100, verbose=2, \n",
        "          validation_split=0.1, callbacks = callbacks_list)"
      ],
      "execution_count": null,
      "outputs": [
        {
          "output_type": "stream",
          "text": [
            "Epoch 1/300\n",
            "9/9 - 1s - loss: 0.6849 - accuracy: 0.5456 - val_loss: 0.6667 - val_accuracy: 0.6778\n",
            "\n",
            "Epoch 00001: val_loss improved from inf to 0.66671, saving model to best_weights.hdf5\n",
            "Epoch 2/300\n",
            "9/9 - 0s - loss: 0.6676 - accuracy: 0.5880 - val_loss: 0.6584 - val_accuracy: 0.7444\n",
            "\n",
            "Epoch 00002: val_loss improved from 0.66671 to 0.65839, saving model to best_weights.hdf5\n",
            "Epoch 3/300\n",
            "9/9 - 0s - loss: 0.6714 - accuracy: 0.5593 - val_loss: 0.6488 - val_accuracy: 0.7556\n",
            "\n",
            "Epoch 00003: val_loss improved from 0.65839 to 0.64883, saving model to best_weights.hdf5\n",
            "Epoch 4/300\n",
            "9/9 - 0s - loss: 0.6536 - accuracy: 0.6005 - val_loss: 0.6369 - val_accuracy: 0.7444\n",
            "\n",
            "Epoch 00004: val_loss improved from 0.64883 to 0.63686, saving model to best_weights.hdf5\n",
            "Epoch 5/300\n",
            "9/9 - 0s - loss: 0.6606 - accuracy: 0.5980 - val_loss: 0.6229 - val_accuracy: 0.7111\n",
            "\n",
            "Epoch 00005: val_loss improved from 0.63686 to 0.62293, saving model to best_weights.hdf5\n",
            "Epoch 6/300\n",
            "9/9 - 0s - loss: 0.6518 - accuracy: 0.6130 - val_loss: 0.6095 - val_accuracy: 0.6889\n",
            "\n",
            "Epoch 00006: val_loss improved from 0.62293 to 0.60950, saving model to best_weights.hdf5\n",
            "Epoch 7/300\n",
            "9/9 - 0s - loss: 0.6389 - accuracy: 0.6055 - val_loss: 0.5960 - val_accuracy: 0.6667\n",
            "\n",
            "Epoch 00007: val_loss improved from 0.60950 to 0.59601, saving model to best_weights.hdf5\n",
            "Epoch 8/300\n",
            "9/9 - 0s - loss: 0.6580 - accuracy: 0.6067 - val_loss: 0.5855 - val_accuracy: 0.6556\n",
            "\n",
            "Epoch 00008: val_loss improved from 0.59601 to 0.58549, saving model to best_weights.hdf5\n",
            "Epoch 9/300\n",
            "9/9 - 0s - loss: 0.6217 - accuracy: 0.6267 - val_loss: 0.5809 - val_accuracy: 0.6556\n",
            "\n",
            "Epoch 00009: val_loss improved from 0.58549 to 0.58088, saving model to best_weights.hdf5\n",
            "Epoch 10/300\n",
            "9/9 - 0s - loss: 0.6355 - accuracy: 0.6080 - val_loss: 0.5757 - val_accuracy: 0.6444\n",
            "\n",
            "Epoch 00010: val_loss improved from 0.58088 to 0.57566, saving model to best_weights.hdf5\n",
            "Epoch 11/300\n",
            "9/9 - 0s - loss: 0.6408 - accuracy: 0.6105 - val_loss: 0.5719 - val_accuracy: 0.6556\n",
            "\n",
            "Epoch 00011: val_loss improved from 0.57566 to 0.57191, saving model to best_weights.hdf5\n",
            "Epoch 12/300\n",
            "9/9 - 0s - loss: 0.6353 - accuracy: 0.6192 - val_loss: 0.5677 - val_accuracy: 0.6556\n",
            "\n",
            "Epoch 00012: val_loss improved from 0.57191 to 0.56769, saving model to best_weights.hdf5\n",
            "Epoch 13/300\n",
            "9/9 - 0s - loss: 0.6345 - accuracy: 0.6167 - val_loss: 0.5652 - val_accuracy: 0.6222\n",
            "\n",
            "Epoch 00013: val_loss improved from 0.56769 to 0.56517, saving model to best_weights.hdf5\n",
            "Epoch 14/300\n",
            "9/9 - 0s - loss: 0.6318 - accuracy: 0.6155 - val_loss: 0.5622 - val_accuracy: 0.6222\n",
            "\n",
            "Epoch 00014: val_loss improved from 0.56517 to 0.56221, saving model to best_weights.hdf5\n",
            "Epoch 15/300\n",
            "9/9 - 0s - loss: 0.6374 - accuracy: 0.6155 - val_loss: 0.5603 - val_accuracy: 0.6222\n",
            "\n",
            "Epoch 00015: val_loss improved from 0.56221 to 0.56028, saving model to best_weights.hdf5\n",
            "Epoch 16/300\n",
            "9/9 - 0s - loss: 0.6135 - accuracy: 0.6267 - val_loss: 0.5575 - val_accuracy: 0.6222\n",
            "\n",
            "Epoch 00016: val_loss improved from 0.56028 to 0.55747, saving model to best_weights.hdf5\n",
            "Epoch 17/300\n",
            "9/9 - 0s - loss: 0.6244 - accuracy: 0.6105 - val_loss: 0.5595 - val_accuracy: 0.6222\n",
            "\n",
            "Epoch 00017: val_loss did not improve from 0.55747\n",
            "Epoch 18/300\n",
            "9/9 - 0s - loss: 0.6342 - accuracy: 0.6192 - val_loss: 0.5627 - val_accuracy: 0.6222\n",
            "\n",
            "Epoch 00018: val_loss did not improve from 0.55747\n",
            "Epoch 19/300\n",
            "9/9 - 0s - loss: 0.6182 - accuracy: 0.6230 - val_loss: 0.5632 - val_accuracy: 0.6222\n",
            "\n",
            "Epoch 00019: val_loss did not improve from 0.55747\n",
            "Epoch 20/300\n",
            "9/9 - 0s - loss: 0.6278 - accuracy: 0.6192 - val_loss: 0.5612 - val_accuracy: 0.6222\n",
            "\n",
            "Epoch 00020: val_loss did not improve from 0.55747\n",
            "Epoch 21/300\n",
            "9/9 - 0s - loss: 0.6138 - accuracy: 0.6205 - val_loss: 0.5570 - val_accuracy: 0.6222\n",
            "\n",
            "Epoch 00021: val_loss improved from 0.55747 to 0.55697, saving model to best_weights.hdf5\n",
            "Epoch 22/300\n",
            "9/9 - 0s - loss: 0.6189 - accuracy: 0.6205 - val_loss: 0.5533 - val_accuracy: 0.6222\n",
            "\n",
            "Epoch 00022: val_loss improved from 0.55697 to 0.55327, saving model to best_weights.hdf5\n",
            "Epoch 23/300\n",
            "9/9 - 0s - loss: 0.6342 - accuracy: 0.6155 - val_loss: 0.5509 - val_accuracy: 0.6222\n",
            "\n",
            "Epoch 00023: val_loss improved from 0.55327 to 0.55085, saving model to best_weights.hdf5\n",
            "Epoch 24/300\n",
            "9/9 - 0s - loss: 0.6238 - accuracy: 0.6217 - val_loss: 0.5493 - val_accuracy: 0.6222\n",
            "\n",
            "Epoch 00024: val_loss improved from 0.55085 to 0.54926, saving model to best_weights.hdf5\n",
            "Epoch 25/300\n",
            "9/9 - 0s - loss: 0.6152 - accuracy: 0.6192 - val_loss: 0.5470 - val_accuracy: 0.6222\n",
            "\n",
            "Epoch 00025: val_loss improved from 0.54926 to 0.54701, saving model to best_weights.hdf5\n",
            "Epoch 26/300\n",
            "9/9 - 0s - loss: 0.6213 - accuracy: 0.6155 - val_loss: 0.5441 - val_accuracy: 0.6222\n",
            "\n",
            "Epoch 00026: val_loss improved from 0.54701 to 0.54408, saving model to best_weights.hdf5\n",
            "Epoch 27/300\n",
            "9/9 - 0s - loss: 0.6252 - accuracy: 0.6105 - val_loss: 0.5409 - val_accuracy: 0.6222\n",
            "\n",
            "Epoch 00027: val_loss improved from 0.54408 to 0.54091, saving model to best_weights.hdf5\n",
            "Epoch 28/300\n",
            "9/9 - 0s - loss: 0.6212 - accuracy: 0.6192 - val_loss: 0.5408 - val_accuracy: 0.6222\n",
            "\n",
            "Epoch 00028: val_loss improved from 0.54091 to 0.54076, saving model to best_weights.hdf5\n",
            "Epoch 29/300\n",
            "9/9 - 0s - loss: 0.6131 - accuracy: 0.6130 - val_loss: 0.5397 - val_accuracy: 0.6222\n",
            "\n",
            "Epoch 00029: val_loss improved from 0.54076 to 0.53975, saving model to best_weights.hdf5\n",
            "Epoch 30/300\n",
            "9/9 - 0s - loss: 0.6180 - accuracy: 0.6142 - val_loss: 0.5368 - val_accuracy: 0.6222\n",
            "\n",
            "Epoch 00030: val_loss improved from 0.53975 to 0.53682, saving model to best_weights.hdf5\n",
            "Epoch 31/300\n",
            "9/9 - 0s - loss: 0.6233 - accuracy: 0.6230 - val_loss: 0.5343 - val_accuracy: 0.6222\n",
            "\n",
            "Epoch 00031: val_loss improved from 0.53682 to 0.53433, saving model to best_weights.hdf5\n",
            "Epoch 32/300\n",
            "9/9 - 0s - loss: 0.6197 - accuracy: 0.6167 - val_loss: 0.5336 - val_accuracy: 0.6222\n",
            "\n",
            "Epoch 00032: val_loss improved from 0.53433 to 0.53356, saving model to best_weights.hdf5\n",
            "Epoch 33/300\n",
            "9/9 - 0s - loss: 0.6020 - accuracy: 0.6255 - val_loss: 0.5355 - val_accuracy: 0.6222\n",
            "\n",
            "Epoch 00033: val_loss did not improve from 0.53356\n",
            "Epoch 34/300\n",
            "9/9 - 0s - loss: 0.6055 - accuracy: 0.6192 - val_loss: 0.5471 - val_accuracy: 0.6444\n",
            "\n",
            "Epoch 00034: val_loss did not improve from 0.53356\n",
            "Epoch 35/300\n",
            "9/9 - 0s - loss: 0.6013 - accuracy: 0.6230 - val_loss: 0.5500 - val_accuracy: 0.6444\n",
            "\n",
            "Epoch 00035: val_loss did not improve from 0.53356\n",
            "Epoch 36/300\n",
            "9/9 - 0s - loss: 0.5966 - accuracy: 0.6180 - val_loss: 0.5486 - val_accuracy: 0.6444\n",
            "\n",
            "Epoch 00036: val_loss did not improve from 0.53356\n",
            "Epoch 37/300\n",
            "9/9 - 0s - loss: 0.5873 - accuracy: 0.6317 - val_loss: 0.5446 - val_accuracy: 0.6667\n",
            "\n",
            "Epoch 00037: val_loss did not improve from 0.53356\n",
            "Epoch 38/300\n",
            "9/9 - 0s - loss: 0.6147 - accuracy: 0.6330 - val_loss: 0.5424 - val_accuracy: 0.7333\n",
            "\n",
            "Epoch 00038: val_loss did not improve from 0.53356\n",
            "Epoch 39/300\n",
            "9/9 - 0s - loss: 0.6018 - accuracy: 0.6342 - val_loss: 0.5409 - val_accuracy: 0.7333\n",
            "\n",
            "Epoch 00039: val_loss did not improve from 0.53356\n",
            "Epoch 40/300\n",
            "9/9 - 0s - loss: 0.5926 - accuracy: 0.6417 - val_loss: 0.5382 - val_accuracy: 0.7778\n",
            "\n",
            "Epoch 00040: val_loss did not improve from 0.53356\n",
            "Epoch 41/300\n",
            "9/9 - 0s - loss: 0.6054 - accuracy: 0.6442 - val_loss: 0.5351 - val_accuracy: 0.7889\n",
            "\n",
            "Epoch 00041: val_loss did not improve from 0.53356\n",
            "Epoch 42/300\n",
            "9/9 - 0s - loss: 0.6072 - accuracy: 0.6417 - val_loss: 0.5333 - val_accuracy: 0.7889\n",
            "\n",
            "Epoch 00042: val_loss improved from 0.53356 to 0.53330, saving model to best_weights.hdf5\n",
            "Epoch 43/300\n",
            "9/9 - 0s - loss: 0.5986 - accuracy: 0.6779 - val_loss: 0.5317 - val_accuracy: 0.8000\n",
            "\n",
            "Epoch 00043: val_loss improved from 0.53330 to 0.53172, saving model to best_weights.hdf5\n",
            "Epoch 44/300\n",
            "9/9 - 0s - loss: 0.5816 - accuracy: 0.6804 - val_loss: 0.5297 - val_accuracy: 0.8000\n",
            "\n",
            "Epoch 00044: val_loss improved from 0.53172 to 0.52973, saving model to best_weights.hdf5\n",
            "Epoch 45/300\n",
            "9/9 - 0s - loss: 0.6011 - accuracy: 0.6579 - val_loss: 0.5289 - val_accuracy: 0.8111\n",
            "\n",
            "Epoch 00045: val_loss improved from 0.52973 to 0.52890, saving model to best_weights.hdf5\n",
            "Epoch 46/300\n",
            "9/9 - 0s - loss: 0.5846 - accuracy: 0.6941 - val_loss: 0.5269 - val_accuracy: 0.8111\n",
            "\n",
            "Epoch 00046: val_loss improved from 0.52890 to 0.52690, saving model to best_weights.hdf5\n",
            "Epoch 47/300\n",
            "9/9 - 0s - loss: 0.6030 - accuracy: 0.6729 - val_loss: 0.5248 - val_accuracy: 0.8111\n",
            "\n",
            "Epoch 00047: val_loss improved from 0.52690 to 0.52478, saving model to best_weights.hdf5\n",
            "Epoch 48/300\n",
            "9/9 - 0s - loss: 0.6075 - accuracy: 0.6667 - val_loss: 0.5247 - val_accuracy: 0.8111\n",
            "\n",
            "Epoch 00048: val_loss improved from 0.52478 to 0.52472, saving model to best_weights.hdf5\n",
            "Epoch 49/300\n",
            "9/9 - 0s - loss: 0.6128 - accuracy: 0.7004 - val_loss: 0.5249 - val_accuracy: 0.8222\n",
            "\n",
            "Epoch 00049: val_loss did not improve from 0.52472\n",
            "Epoch 50/300\n",
            "9/9 - 0s - loss: 0.5858 - accuracy: 0.6916 - val_loss: 0.5233 - val_accuracy: 0.8222\n",
            "\n",
            "Epoch 00050: val_loss improved from 0.52472 to 0.52329, saving model to best_weights.hdf5\n",
            "Epoch 51/300\n",
            "9/9 - 0s - loss: 0.5908 - accuracy: 0.6729 - val_loss: 0.5232 - val_accuracy: 0.8333\n",
            "\n",
            "Epoch 00051: val_loss improved from 0.52329 to 0.52320, saving model to best_weights.hdf5\n",
            "Epoch 52/300\n",
            "9/9 - 0s - loss: 0.5940 - accuracy: 0.6929 - val_loss: 0.5229 - val_accuracy: 0.8333\n",
            "\n",
            "Epoch 00052: val_loss improved from 0.52320 to 0.52286, saving model to best_weights.hdf5\n",
            "Epoch 53/300\n",
            "9/9 - 0s - loss: 0.5901 - accuracy: 0.6816 - val_loss: 0.5210 - val_accuracy: 0.8333\n",
            "\n",
            "Epoch 00053: val_loss improved from 0.52286 to 0.52097, saving model to best_weights.hdf5\n",
            "Epoch 54/300\n",
            "9/9 - 0s - loss: 0.5880 - accuracy: 0.6904 - val_loss: 0.5191 - val_accuracy: 0.8444\n",
            "\n",
            "Epoch 00054: val_loss improved from 0.52097 to 0.51910, saving model to best_weights.hdf5\n",
            "Epoch 55/300\n",
            "9/9 - 0s - loss: 0.6011 - accuracy: 0.7166 - val_loss: 0.5184 - val_accuracy: 0.8444\n",
            "\n",
            "Epoch 00055: val_loss improved from 0.51910 to 0.51844, saving model to best_weights.hdf5\n",
            "Epoch 56/300\n",
            "9/9 - 0s - loss: 0.5845 - accuracy: 0.7266 - val_loss: 0.5174 - val_accuracy: 0.8333\n",
            "\n",
            "Epoch 00056: val_loss improved from 0.51844 to 0.51738, saving model to best_weights.hdf5\n",
            "Epoch 57/300\n",
            "9/9 - 0s - loss: 0.5987 - accuracy: 0.6941 - val_loss: 0.5189 - val_accuracy: 0.8111\n",
            "\n",
            "Epoch 00057: val_loss did not improve from 0.51738\n",
            "Epoch 58/300\n",
            "9/9 - 0s - loss: 0.5664 - accuracy: 0.7266 - val_loss: 0.5217 - val_accuracy: 0.8000\n",
            "\n",
            "Epoch 00058: val_loss did not improve from 0.51738\n",
            "Epoch 59/300\n",
            "9/9 - 0s - loss: 0.5919 - accuracy: 0.7378 - val_loss: 0.5220 - val_accuracy: 0.8000\n",
            "\n",
            "Epoch 00059: val_loss did not improve from 0.51738\n",
            "Epoch 60/300\n",
            "9/9 - 0s - loss: 0.5810 - accuracy: 0.7278 - val_loss: 0.5206 - val_accuracy: 0.8000\n",
            "\n",
            "Epoch 00060: val_loss did not improve from 0.51738\n",
            "Epoch 61/300\n",
            "9/9 - 0s - loss: 0.5898 - accuracy: 0.7203 - val_loss: 0.5189 - val_accuracy: 0.8000\n",
            "\n",
            "Epoch 00061: val_loss did not improve from 0.51738\n",
            "Epoch 62/300\n",
            "9/9 - 0s - loss: 0.5715 - accuracy: 0.7428 - val_loss: 0.5174 - val_accuracy: 0.8000\n",
            "\n",
            "Epoch 00062: val_loss did not improve from 0.51738\n",
            "Epoch 63/300\n",
            "9/9 - 0s - loss: 0.5682 - accuracy: 0.7191 - val_loss: 0.5146 - val_accuracy: 0.8000\n",
            "\n",
            "Epoch 00063: val_loss improved from 0.51738 to 0.51463, saving model to best_weights.hdf5\n",
            "Epoch 64/300\n",
            "9/9 - 0s - loss: 0.5654 - accuracy: 0.7591 - val_loss: 0.5118 - val_accuracy: 0.8333\n",
            "\n",
            "Epoch 00064: val_loss improved from 0.51463 to 0.51178, saving model to best_weights.hdf5\n",
            "Epoch 65/300\n",
            "9/9 - 0s - loss: 0.5829 - accuracy: 0.7341 - val_loss: 0.5101 - val_accuracy: 0.8000\n",
            "\n",
            "Epoch 00065: val_loss improved from 0.51178 to 0.51005, saving model to best_weights.hdf5\n",
            "Epoch 66/300\n",
            "9/9 - 0s - loss: 0.5681 - accuracy: 0.7516 - val_loss: 0.5062 - val_accuracy: 0.8111\n",
            "\n",
            "Epoch 00066: val_loss improved from 0.51005 to 0.50624, saving model to best_weights.hdf5\n",
            "Epoch 67/300\n",
            "9/9 - 0s - loss: 0.5971 - accuracy: 0.7291 - val_loss: 0.5017 - val_accuracy: 0.8333\n",
            "\n",
            "Epoch 00067: val_loss improved from 0.50624 to 0.50167, saving model to best_weights.hdf5\n",
            "Epoch 68/300\n",
            "9/9 - 0s - loss: 0.5553 - accuracy: 0.7615 - val_loss: 0.4983 - val_accuracy: 0.8444\n",
            "\n",
            "Epoch 00068: val_loss improved from 0.50167 to 0.49829, saving model to best_weights.hdf5\n",
            "Epoch 69/300\n",
            "9/9 - 0s - loss: 0.5671 - accuracy: 0.7491 - val_loss: 0.4970 - val_accuracy: 0.8444\n",
            "\n",
            "Epoch 00069: val_loss improved from 0.49829 to 0.49697, saving model to best_weights.hdf5\n",
            "Epoch 70/300\n",
            "9/9 - 0s - loss: 0.5719 - accuracy: 0.7516 - val_loss: 0.4967 - val_accuracy: 0.8333\n",
            "\n",
            "Epoch 00070: val_loss improved from 0.49697 to 0.49673, saving model to best_weights.hdf5\n",
            "Epoch 71/300\n",
            "9/9 - 0s - loss: 0.5785 - accuracy: 0.7403 - val_loss: 0.4981 - val_accuracy: 0.8333\n",
            "\n",
            "Epoch 00071: val_loss did not improve from 0.49673\n",
            "Epoch 72/300\n",
            "9/9 - 0s - loss: 0.5962 - accuracy: 0.7303 - val_loss: 0.4983 - val_accuracy: 0.8333\n",
            "\n",
            "Epoch 00072: val_loss did not improve from 0.49673\n",
            "Epoch 73/300\n",
            "9/9 - 0s - loss: 0.5948 - accuracy: 0.7503 - val_loss: 0.4966 - val_accuracy: 0.8333\n",
            "\n",
            "Epoch 00073: val_loss improved from 0.49673 to 0.49664, saving model to best_weights.hdf5\n",
            "Epoch 74/300\n",
            "9/9 - 0s - loss: 0.5641 - accuracy: 0.7441 - val_loss: 0.4937 - val_accuracy: 0.8333\n",
            "\n",
            "Epoch 00074: val_loss improved from 0.49664 to 0.49365, saving model to best_weights.hdf5\n",
            "Epoch 75/300\n",
            "9/9 - 0s - loss: 0.5633 - accuracy: 0.7578 - val_loss: 0.4904 - val_accuracy: 0.8333\n",
            "\n",
            "Epoch 00075: val_loss improved from 0.49365 to 0.49042, saving model to best_weights.hdf5\n",
            "Epoch 76/300\n",
            "9/9 - 0s - loss: 0.5469 - accuracy: 0.7665 - val_loss: 0.4883 - val_accuracy: 0.8444\n",
            "\n",
            "Epoch 00076: val_loss improved from 0.49042 to 0.48833, saving model to best_weights.hdf5\n",
            "Epoch 77/300\n",
            "9/9 - 0s - loss: 0.5676 - accuracy: 0.7391 - val_loss: 0.4872 - val_accuracy: 0.8333\n",
            "\n",
            "Epoch 00077: val_loss improved from 0.48833 to 0.48721, saving model to best_weights.hdf5\n",
            "Epoch 78/300\n",
            "9/9 - 0s - loss: 0.5675 - accuracy: 0.7366 - val_loss: 0.4866 - val_accuracy: 0.8444\n",
            "\n",
            "Epoch 00078: val_loss improved from 0.48721 to 0.48665, saving model to best_weights.hdf5\n",
            "Epoch 79/300\n",
            "9/9 - 0s - loss: 0.5730 - accuracy: 0.7416 - val_loss: 0.4858 - val_accuracy: 0.8333\n",
            "\n",
            "Epoch 00079: val_loss improved from 0.48665 to 0.48578, saving model to best_weights.hdf5\n",
            "Epoch 80/300\n",
            "9/9 - 0s - loss: 0.5551 - accuracy: 0.7690 - val_loss: 0.4845 - val_accuracy: 0.8333\n",
            "\n",
            "Epoch 00080: val_loss improved from 0.48578 to 0.48454, saving model to best_weights.hdf5\n",
            "Epoch 81/300\n",
            "9/9 - 0s - loss: 0.5867 - accuracy: 0.7503 - val_loss: 0.4843 - val_accuracy: 0.8333\n",
            "\n",
            "Epoch 00081: val_loss improved from 0.48454 to 0.48426, saving model to best_weights.hdf5\n",
            "Epoch 82/300\n",
            "9/9 - 0s - loss: 0.5704 - accuracy: 0.7678 - val_loss: 0.4842 - val_accuracy: 0.8333\n",
            "\n",
            "Epoch 00082: val_loss improved from 0.48426 to 0.48425, saving model to best_weights.hdf5\n",
            "Epoch 83/300\n",
            "9/9 - 0s - loss: 0.5498 - accuracy: 0.7815 - val_loss: 0.4846 - val_accuracy: 0.8333\n",
            "\n",
            "Epoch 00083: val_loss did not improve from 0.48425\n",
            "Epoch 84/300\n",
            "9/9 - 0s - loss: 0.5851 - accuracy: 0.7341 - val_loss: 0.4831 - val_accuracy: 0.8333\n",
            "\n",
            "Epoch 00084: val_loss improved from 0.48425 to 0.48306, saving model to best_weights.hdf5\n",
            "Epoch 85/300\n",
            "9/9 - 0s - loss: 0.5531 - accuracy: 0.7516 - val_loss: 0.4820 - val_accuracy: 0.8333\n",
            "\n",
            "Epoch 00085: val_loss improved from 0.48306 to 0.48199, saving model to best_weights.hdf5\n",
            "Epoch 86/300\n",
            "9/9 - 0s - loss: 0.5719 - accuracy: 0.7228 - val_loss: 0.4814 - val_accuracy: 0.8333\n",
            "\n",
            "Epoch 00086: val_loss improved from 0.48199 to 0.48145, saving model to best_weights.hdf5\n",
            "Epoch 87/300\n",
            "9/9 - 0s - loss: 0.5658 - accuracy: 0.7491 - val_loss: 0.4819 - val_accuracy: 0.8333\n",
            "\n",
            "Epoch 00087: val_loss did not improve from 0.48145\n",
            "Epoch 88/300\n",
            "9/9 - 0s - loss: 0.5534 - accuracy: 0.7466 - val_loss: 0.4807 - val_accuracy: 0.8333\n",
            "\n",
            "Epoch 00088: val_loss improved from 0.48145 to 0.48070, saving model to best_weights.hdf5\n",
            "Epoch 89/300\n",
            "9/9 - 0s - loss: 0.5644 - accuracy: 0.7478 - val_loss: 0.4817 - val_accuracy: 0.8333\n",
            "\n",
            "Epoch 00089: val_loss did not improve from 0.48070\n",
            "Epoch 90/300\n",
            "9/9 - 0s - loss: 0.5770 - accuracy: 0.7728 - val_loss: 0.4827 - val_accuracy: 0.8333\n",
            "\n",
            "Epoch 00090: val_loss did not improve from 0.48070\n",
            "Epoch 91/300\n",
            "9/9 - 0s - loss: 0.5576 - accuracy: 0.7628 - val_loss: 0.4835 - val_accuracy: 0.8333\n",
            "\n",
            "Epoch 00091: val_loss did not improve from 0.48070\n",
            "Epoch 92/300\n",
            "9/9 - 0s - loss: 0.5705 - accuracy: 0.7591 - val_loss: 0.4822 - val_accuracy: 0.8333\n",
            "\n",
            "Epoch 00092: val_loss did not improve from 0.48070\n",
            "Epoch 93/300\n",
            "9/9 - 0s - loss: 0.5503 - accuracy: 0.7765 - val_loss: 0.4804 - val_accuracy: 0.8333\n",
            "\n",
            "Epoch 00093: val_loss improved from 0.48070 to 0.48042, saving model to best_weights.hdf5\n",
            "Epoch 94/300\n",
            "9/9 - 0s - loss: 0.5557 - accuracy: 0.7665 - val_loss: 0.4787 - val_accuracy: 0.8333\n",
            "\n",
            "Epoch 00094: val_loss improved from 0.48042 to 0.47869, saving model to best_weights.hdf5\n",
            "Epoch 95/300\n",
            "9/9 - 0s - loss: 0.5584 - accuracy: 0.7753 - val_loss: 0.4782 - val_accuracy: 0.8333\n",
            "\n",
            "Epoch 00095: val_loss improved from 0.47869 to 0.47823, saving model to best_weights.hdf5\n",
            "Epoch 96/300\n",
            "9/9 - 0s - loss: 0.5704 - accuracy: 0.7541 - val_loss: 0.4787 - val_accuracy: 0.8333\n",
            "\n",
            "Epoch 00096: val_loss did not improve from 0.47823\n",
            "Epoch 97/300\n",
            "9/9 - 0s - loss: 0.5583 - accuracy: 0.7591 - val_loss: 0.4796 - val_accuracy: 0.8333\n",
            "\n",
            "Epoch 00097: val_loss did not improve from 0.47823\n",
            "Epoch 98/300\n",
            "9/9 - 0s - loss: 0.5850 - accuracy: 0.7591 - val_loss: 0.4807 - val_accuracy: 0.8333\n",
            "\n",
            "Epoch 00098: val_loss did not improve from 0.47823\n",
            "Epoch 99/300\n",
            "9/9 - 0s - loss: 0.5645 - accuracy: 0.7778 - val_loss: 0.4819 - val_accuracy: 0.8333\n",
            "\n",
            "Epoch 00099: val_loss did not improve from 0.47823\n",
            "Epoch 100/300\n",
            "9/9 - 0s - loss: 0.5672 - accuracy: 0.7578 - val_loss: 0.4813 - val_accuracy: 0.8333\n",
            "\n",
            "Epoch 00100: val_loss did not improve from 0.47823\n",
            "Epoch 101/300\n",
            "9/9 - 0s - loss: 0.5587 - accuracy: 0.7503 - val_loss: 0.4809 - val_accuracy: 0.8333\n",
            "\n",
            "Epoch 00101: val_loss did not improve from 0.47823\n",
            "Epoch 102/300\n",
            "9/9 - 0s - loss: 0.5543 - accuracy: 0.7715 - val_loss: 0.4811 - val_accuracy: 0.8333\n",
            "\n",
            "Epoch 00102: val_loss did not improve from 0.47823\n",
            "Epoch 103/300\n",
            "9/9 - 0s - loss: 0.5581 - accuracy: 0.7453 - val_loss: 0.4786 - val_accuracy: 0.8333\n",
            "\n",
            "Epoch 00103: val_loss did not improve from 0.47823\n",
            "Epoch 104/300\n",
            "9/9 - 0s - loss: 0.5795 - accuracy: 0.7578 - val_loss: 0.4763 - val_accuracy: 0.8333\n",
            "\n",
            "Epoch 00104: val_loss improved from 0.47823 to 0.47629, saving model to best_weights.hdf5\n",
            "Epoch 105/300\n",
            "9/9 - 0s - loss: 0.5528 - accuracy: 0.7778 - val_loss: 0.4758 - val_accuracy: 0.8333\n",
            "\n",
            "Epoch 00105: val_loss improved from 0.47629 to 0.47577, saving model to best_weights.hdf5\n",
            "Epoch 106/300\n",
            "9/9 - 0s - loss: 0.5420 - accuracy: 0.7803 - val_loss: 0.4751 - val_accuracy: 0.8333\n",
            "\n",
            "Epoch 00106: val_loss improved from 0.47577 to 0.47511, saving model to best_weights.hdf5\n",
            "Epoch 107/300\n",
            "9/9 - 0s - loss: 0.5529 - accuracy: 0.7715 - val_loss: 0.4765 - val_accuracy: 0.8333\n",
            "\n",
            "Epoch 00107: val_loss did not improve from 0.47511\n",
            "Epoch 108/300\n",
            "9/9 - 0s - loss: 0.5435 - accuracy: 0.7665 - val_loss: 0.4808 - val_accuracy: 0.8333\n",
            "\n",
            "Epoch 00108: val_loss did not improve from 0.47511\n",
            "Epoch 109/300\n",
            "9/9 - 0s - loss: 0.5452 - accuracy: 0.7790 - val_loss: 0.4828 - val_accuracy: 0.8333\n",
            "\n",
            "Epoch 00109: val_loss did not improve from 0.47511\n",
            "Epoch 110/300\n",
            "9/9 - 0s - loss: 0.5488 - accuracy: 0.7403 - val_loss: 0.4803 - val_accuracy: 0.8333\n",
            "\n",
            "Epoch 00110: val_loss did not improve from 0.47511\n",
            "Epoch 111/300\n",
            "9/9 - 0s - loss: 0.5614 - accuracy: 0.7566 - val_loss: 0.4751 - val_accuracy: 0.8333\n",
            "\n",
            "Epoch 00111: val_loss did not improve from 0.47511\n",
            "Epoch 112/300\n",
            "9/9 - 0s - loss: 0.5630 - accuracy: 0.7591 - val_loss: 0.4707 - val_accuracy: 0.8333\n",
            "\n",
            "Epoch 00112: val_loss improved from 0.47511 to 0.47069, saving model to best_weights.hdf5\n",
            "Epoch 113/300\n",
            "9/9 - 0s - loss: 0.5589 - accuracy: 0.7778 - val_loss: 0.4687 - val_accuracy: 0.8333\n",
            "\n",
            "Epoch 00113: val_loss improved from 0.47069 to 0.46872, saving model to best_weights.hdf5\n",
            "Epoch 114/300\n",
            "9/9 - 0s - loss: 0.5360 - accuracy: 0.7728 - val_loss: 0.4667 - val_accuracy: 0.8333\n",
            "\n",
            "Epoch 00114: val_loss improved from 0.46872 to 0.46675, saving model to best_weights.hdf5\n",
            "Epoch 115/300\n",
            "9/9 - 0s - loss: 0.5285 - accuracy: 0.7728 - val_loss: 0.4648 - val_accuracy: 0.8333\n",
            "\n",
            "Epoch 00115: val_loss improved from 0.46675 to 0.46479, saving model to best_weights.hdf5\n",
            "Epoch 116/300\n",
            "9/9 - 0s - loss: 0.5407 - accuracy: 0.7853 - val_loss: 0.4639 - val_accuracy: 0.8333\n",
            "\n",
            "Epoch 00116: val_loss improved from 0.46479 to 0.46387, saving model to best_weights.hdf5\n",
            "Epoch 117/300\n",
            "9/9 - 0s - loss: 0.5604 - accuracy: 0.7653 - val_loss: 0.4627 - val_accuracy: 0.8333\n",
            "\n",
            "Epoch 00117: val_loss improved from 0.46387 to 0.46274, saving model to best_weights.hdf5\n",
            "Epoch 118/300\n",
            "9/9 - 0s - loss: 0.5516 - accuracy: 0.7690 - val_loss: 0.4614 - val_accuracy: 0.8333\n",
            "\n",
            "Epoch 00118: val_loss improved from 0.46274 to 0.46145, saving model to best_weights.hdf5\n",
            "Epoch 119/300\n",
            "9/9 - 0s - loss: 0.5542 - accuracy: 0.7828 - val_loss: 0.4623 - val_accuracy: 0.8333\n",
            "\n",
            "Epoch 00119: val_loss did not improve from 0.46145\n",
            "Epoch 120/300\n",
            "9/9 - 0s - loss: 0.5334 - accuracy: 0.7978 - val_loss: 0.4615 - val_accuracy: 0.8333\n",
            "\n",
            "Epoch 00120: val_loss did not improve from 0.46145\n",
            "Epoch 121/300\n",
            "9/9 - 0s - loss: 0.5273 - accuracy: 0.7715 - val_loss: 0.4621 - val_accuracy: 0.8333\n",
            "\n",
            "Epoch 00121: val_loss did not improve from 0.46145\n",
            "Epoch 122/300\n",
            "9/9 - 0s - loss: 0.5359 - accuracy: 0.7765 - val_loss: 0.4657 - val_accuracy: 0.8333\n",
            "\n",
            "Epoch 00122: val_loss did not improve from 0.46145\n",
            "Epoch 123/300\n",
            "9/9 - 0s - loss: 0.5450 - accuracy: 0.7603 - val_loss: 0.4673 - val_accuracy: 0.8333\n",
            "\n",
            "Epoch 00123: val_loss did not improve from 0.46145\n",
            "Epoch 124/300\n",
            "9/9 - 0s - loss: 0.5307 - accuracy: 0.7803 - val_loss: 0.4674 - val_accuracy: 0.8333\n",
            "\n",
            "Epoch 00124: val_loss did not improve from 0.46145\n",
            "Epoch 125/300\n",
            "9/9 - 0s - loss: 0.5592 - accuracy: 0.7628 - val_loss: 0.4666 - val_accuracy: 0.8333\n",
            "\n",
            "Epoch 00125: val_loss did not improve from 0.46145\n",
            "Epoch 126/300\n",
            "9/9 - 0s - loss: 0.5573 - accuracy: 0.7728 - val_loss: 0.4708 - val_accuracy: 0.8333\n",
            "\n",
            "Epoch 00126: val_loss did not improve from 0.46145\n",
            "Epoch 127/300\n",
            "9/9 - 0s - loss: 0.5270 - accuracy: 0.7740 - val_loss: 0.4964 - val_accuracy: 0.8333\n",
            "\n",
            "Epoch 00127: val_loss did not improve from 0.46145\n",
            "Epoch 128/300\n",
            "9/9 - 0s - loss: 0.5525 - accuracy: 0.7715 - val_loss: 0.5039 - val_accuracy: 0.8333\n",
            "\n",
            "Epoch 00128: val_loss did not improve from 0.46145\n",
            "Epoch 129/300\n",
            "9/9 - 0s - loss: 0.5477 - accuracy: 0.7603 - val_loss: 0.5064 - val_accuracy: 0.8333\n",
            "\n",
            "Epoch 00129: val_loss did not improve from 0.46145\n",
            "Epoch 130/300\n",
            "9/9 - 0s - loss: 0.5404 - accuracy: 0.7703 - val_loss: 0.5155 - val_accuracy: 0.8333\n",
            "\n",
            "Epoch 00130: val_loss did not improve from 0.46145\n",
            "Epoch 131/300\n",
            "9/9 - 0s - loss: 0.5420 - accuracy: 0.7578 - val_loss: 0.5105 - val_accuracy: 0.8333\n",
            "\n",
            "Epoch 00131: val_loss did not improve from 0.46145\n",
            "Epoch 132/300\n",
            "9/9 - 0s - loss: 0.5426 - accuracy: 0.7615 - val_loss: 0.5028 - val_accuracy: 0.8333\n",
            "\n",
            "Epoch 00132: val_loss did not improve from 0.46145\n",
            "Epoch 133/300\n",
            "9/9 - 0s - loss: 0.5339 - accuracy: 0.7653 - val_loss: 0.4955 - val_accuracy: 0.8333\n",
            "\n",
            "Epoch 00133: val_loss did not improve from 0.46145\n",
            "Epoch 134/300\n",
            "9/9 - 0s - loss: 0.5439 - accuracy: 0.7690 - val_loss: 0.4894 - val_accuracy: 0.8333\n",
            "\n",
            "Epoch 00134: val_loss did not improve from 0.46145\n",
            "Epoch 135/300\n",
            "9/9 - 0s - loss: 0.5244 - accuracy: 0.7953 - val_loss: 0.4830 - val_accuracy: 0.8333\n",
            "\n",
            "Epoch 00135: val_loss did not improve from 0.46145\n",
            "Epoch 136/300\n",
            "9/9 - 0s - loss: 0.5346 - accuracy: 0.7840 - val_loss: 0.4773 - val_accuracy: 0.8333\n",
            "\n",
            "Epoch 00136: val_loss did not improve from 0.46145\n",
            "Epoch 137/300\n",
            "9/9 - 0s - loss: 0.5320 - accuracy: 0.7753 - val_loss: 0.4751 - val_accuracy: 0.8333\n",
            "\n",
            "Epoch 00137: val_loss did not improve from 0.46145\n",
            "Epoch 138/300\n",
            "9/9 - 0s - loss: 0.5453 - accuracy: 0.7890 - val_loss: 0.4782 - val_accuracy: 0.8333\n",
            "\n",
            "Epoch 00138: val_loss did not improve from 0.46145\n",
            "Epoch 139/300\n",
            "9/9 - 0s - loss: 0.5614 - accuracy: 0.7578 - val_loss: 0.4793 - val_accuracy: 0.8333\n",
            "\n",
            "Epoch 00139: val_loss did not improve from 0.46145\n",
            "Epoch 140/300\n",
            "9/9 - 0s - loss: 0.5391 - accuracy: 0.7803 - val_loss: 0.4805 - val_accuracy: 0.8333\n",
            "\n",
            "Epoch 00140: val_loss did not improve from 0.46145\n",
            "Epoch 141/300\n",
            "9/9 - 0s - loss: 0.5187 - accuracy: 0.7803 - val_loss: 0.4805 - val_accuracy: 0.8333\n",
            "\n",
            "Epoch 00141: val_loss did not improve from 0.46145\n",
            "Epoch 142/300\n",
            "9/9 - 0s - loss: 0.5489 - accuracy: 0.7665 - val_loss: 0.4803 - val_accuracy: 0.8333\n",
            "\n",
            "Epoch 00142: val_loss did not improve from 0.46145\n",
            "Epoch 143/300\n",
            "9/9 - 0s - loss: 0.5328 - accuracy: 0.7778 - val_loss: 0.4790 - val_accuracy: 0.8333\n",
            "\n",
            "Epoch 00143: val_loss did not improve from 0.46145\n",
            "Epoch 144/300\n",
            "9/9 - 0s - loss: 0.5324 - accuracy: 0.7815 - val_loss: 0.4739 - val_accuracy: 0.8333\n",
            "\n",
            "Epoch 00144: val_loss did not improve from 0.46145\n",
            "Epoch 145/300\n",
            "9/9 - 0s - loss: 0.5208 - accuracy: 0.7778 - val_loss: 0.4694 - val_accuracy: 0.8333\n",
            "\n",
            "Epoch 00145: val_loss did not improve from 0.46145\n",
            "Epoch 146/300\n",
            "9/9 - 0s - loss: 0.5536 - accuracy: 0.7803 - val_loss: 0.4675 - val_accuracy: 0.8333\n",
            "\n",
            "Epoch 00146: val_loss did not improve from 0.46145\n",
            "Epoch 147/300\n",
            "9/9 - 0s - loss: 0.5373 - accuracy: 0.7778 - val_loss: 0.4753 - val_accuracy: 0.8333\n",
            "\n",
            "Epoch 00147: val_loss did not improve from 0.46145\n",
            "Epoch 148/300\n",
            "9/9 - 0s - loss: 0.5351 - accuracy: 0.7840 - val_loss: 0.4791 - val_accuracy: 0.8222\n",
            "\n",
            "Epoch 00148: val_loss did not improve from 0.46145\n",
            "Epoch 149/300\n",
            "9/9 - 0s - loss: 0.5345 - accuracy: 0.7778 - val_loss: 0.4799 - val_accuracy: 0.8222\n",
            "\n",
            "Epoch 00149: val_loss did not improve from 0.46145\n",
            "Epoch 150/300\n",
            "9/9 - 0s - loss: 0.5461 - accuracy: 0.7628 - val_loss: 0.4776 - val_accuracy: 0.8222\n",
            "\n",
            "Epoch 00150: val_loss did not improve from 0.46145\n",
            "Epoch 151/300\n",
            "9/9 - 0s - loss: 0.5271 - accuracy: 0.7828 - val_loss: 0.4740 - val_accuracy: 0.8222\n",
            "\n",
            "Epoch 00151: val_loss did not improve from 0.46145\n",
            "Epoch 152/300\n",
            "9/9 - 0s - loss: 0.5336 - accuracy: 0.7665 - val_loss: 0.4701 - val_accuracy: 0.8222\n",
            "\n",
            "Epoch 00152: val_loss did not improve from 0.46145\n",
            "Epoch 153/300\n",
            "9/9 - 0s - loss: 0.5336 - accuracy: 0.7740 - val_loss: 0.4655 - val_accuracy: 0.8222\n",
            "\n",
            "Epoch 00153: val_loss did not improve from 0.46145\n",
            "Epoch 154/300\n",
            "9/9 - 0s - loss: 0.5419 - accuracy: 0.7703 - val_loss: 0.4622 - val_accuracy: 0.8333\n",
            "\n",
            "Epoch 00154: val_loss did not improve from 0.46145\n",
            "Epoch 155/300\n",
            "9/9 - 0s - loss: 0.5514 - accuracy: 0.7441 - val_loss: 0.4599 - val_accuracy: 0.8333\n",
            "\n",
            "Epoch 00155: val_loss improved from 0.46145 to 0.45990, saving model to best_weights.hdf5\n",
            "Epoch 156/300\n",
            "9/9 - 0s - loss: 0.5145 - accuracy: 0.7853 - val_loss: 0.4579 - val_accuracy: 0.8333\n",
            "\n",
            "Epoch 00156: val_loss improved from 0.45990 to 0.45788, saving model to best_weights.hdf5\n",
            "Epoch 157/300\n",
            "9/9 - 0s - loss: 0.5224 - accuracy: 0.7703 - val_loss: 0.4563 - val_accuracy: 0.8333\n",
            "\n",
            "Epoch 00157: val_loss improved from 0.45788 to 0.45628, saving model to best_weights.hdf5\n",
            "Epoch 158/300\n",
            "9/9 - 0s - loss: 0.5310 - accuracy: 0.7753 - val_loss: 0.4544 - val_accuracy: 0.8333\n",
            "\n",
            "Epoch 00158: val_loss improved from 0.45628 to 0.45435, saving model to best_weights.hdf5\n",
            "Epoch 159/300\n",
            "9/9 - 0s - loss: 0.5269 - accuracy: 0.7665 - val_loss: 0.4518 - val_accuracy: 0.8333\n",
            "\n",
            "Epoch 00159: val_loss improved from 0.45435 to 0.45183, saving model to best_weights.hdf5\n",
            "Epoch 160/300\n",
            "9/9 - 0s - loss: 0.5350 - accuracy: 0.7828 - val_loss: 0.4495 - val_accuracy: 0.8333\n",
            "\n",
            "Epoch 00160: val_loss improved from 0.45183 to 0.44953, saving model to best_weights.hdf5\n",
            "Epoch 161/300\n",
            "9/9 - 0s - loss: 0.5419 - accuracy: 0.7878 - val_loss: 0.4495 - val_accuracy: 0.8333\n",
            "\n",
            "Epoch 00161: val_loss improved from 0.44953 to 0.44949, saving model to best_weights.hdf5\n",
            "Epoch 162/300\n",
            "9/9 - 0s - loss: 0.5484 - accuracy: 0.7740 - val_loss: 0.4583 - val_accuracy: 0.8333\n",
            "\n",
            "Epoch 00162: val_loss did not improve from 0.44949\n",
            "Epoch 163/300\n",
            "9/9 - 0s - loss: 0.5172 - accuracy: 0.7853 - val_loss: 0.4651 - val_accuracy: 0.8333\n",
            "\n",
            "Epoch 00163: val_loss did not improve from 0.44949\n",
            "Epoch 164/300\n",
            "9/9 - 0s - loss: 0.5198 - accuracy: 0.7790 - val_loss: 0.4906 - val_accuracy: 0.8333\n",
            "\n",
            "Epoch 00164: val_loss did not improve from 0.44949\n",
            "Epoch 165/300\n",
            "9/9 - 0s - loss: 0.5365 - accuracy: 0.7828 - val_loss: 0.4990 - val_accuracy: 0.8333\n",
            "\n",
            "Epoch 00165: val_loss did not improve from 0.44949\n",
            "Epoch 166/300\n",
            "9/9 - 0s - loss: 0.5342 - accuracy: 0.7815 - val_loss: 0.5020 - val_accuracy: 0.8333\n",
            "\n",
            "Epoch 00166: val_loss did not improve from 0.44949\n",
            "Epoch 167/300\n",
            "9/9 - 0s - loss: 0.5284 - accuracy: 0.7740 - val_loss: 0.5021 - val_accuracy: 0.8333\n",
            "\n",
            "Epoch 00167: val_loss did not improve from 0.44949\n",
            "Epoch 168/300\n",
            "9/9 - 0s - loss: 0.5421 - accuracy: 0.7715 - val_loss: 0.5007 - val_accuracy: 0.8333\n",
            "\n",
            "Epoch 00168: val_loss did not improve from 0.44949\n",
            "Epoch 169/300\n",
            "9/9 - 0s - loss: 0.5464 - accuracy: 0.7578 - val_loss: 0.4989 - val_accuracy: 0.8333\n",
            "\n",
            "Epoch 00169: val_loss did not improve from 0.44949\n",
            "Epoch 170/300\n",
            "9/9 - 0s - loss: 0.5171 - accuracy: 0.7915 - val_loss: 0.4943 - val_accuracy: 0.8333\n",
            "\n",
            "Epoch 00170: val_loss did not improve from 0.44949\n",
            "Epoch 171/300\n",
            "9/9 - 0s - loss: 0.5225 - accuracy: 0.7765 - val_loss: 0.4880 - val_accuracy: 0.8333\n",
            "\n",
            "Epoch 00171: val_loss did not improve from 0.44949\n",
            "Epoch 172/300\n",
            "9/9 - 0s - loss: 0.5313 - accuracy: 0.7928 - val_loss: 0.4825 - val_accuracy: 0.8333\n",
            "\n",
            "Epoch 00172: val_loss did not improve from 0.44949\n",
            "Epoch 173/300\n",
            "9/9 - 0s - loss: 0.5357 - accuracy: 0.7840 - val_loss: 0.4788 - val_accuracy: 0.8333\n",
            "\n",
            "Epoch 00173: val_loss did not improve from 0.44949\n",
            "Epoch 174/300\n",
            "9/9 - 0s - loss: 0.5247 - accuracy: 0.7803 - val_loss: 0.4762 - val_accuracy: 0.8333\n",
            "\n",
            "Epoch 00174: val_loss did not improve from 0.44949\n",
            "Epoch 175/300\n",
            "9/9 - 0s - loss: 0.5183 - accuracy: 0.7928 - val_loss: 0.4741 - val_accuracy: 0.8333\n",
            "\n",
            "Epoch 00175: val_loss did not improve from 0.44949\n",
            "Epoch 176/300\n",
            "9/9 - 0s - loss: 0.5467 - accuracy: 0.7928 - val_loss: 0.4738 - val_accuracy: 0.8333\n",
            "\n",
            "Epoch 00176: val_loss did not improve from 0.44949\n",
            "Epoch 177/300\n",
            "9/9 - 0s - loss: 0.5270 - accuracy: 0.7853 - val_loss: 0.4728 - val_accuracy: 0.8333\n",
            "\n",
            "Epoch 00177: val_loss did not improve from 0.44949\n",
            "Epoch 178/300\n",
            "9/9 - 0s - loss: 0.5345 - accuracy: 0.7715 - val_loss: 0.4737 - val_accuracy: 0.8333\n",
            "\n",
            "Epoch 00178: val_loss did not improve from 0.44949\n",
            "Epoch 179/300\n",
            "9/9 - 0s - loss: 0.5345 - accuracy: 0.7728 - val_loss: 0.4720 - val_accuracy: 0.8333\n",
            "\n",
            "Epoch 00179: val_loss did not improve from 0.44949\n",
            "Epoch 180/300\n",
            "9/9 - 0s - loss: 0.5021 - accuracy: 0.7828 - val_loss: 0.4689 - val_accuracy: 0.8333\n",
            "\n",
            "Epoch 00180: val_loss did not improve from 0.44949\n",
            "Epoch 181/300\n",
            "9/9 - 0s - loss: 0.5428 - accuracy: 0.7853 - val_loss: 0.4660 - val_accuracy: 0.8333\n",
            "\n",
            "Epoch 00181: val_loss did not improve from 0.44949\n",
            "Epoch 182/300\n",
            "9/9 - 0s - loss: 0.5180 - accuracy: 0.7778 - val_loss: 0.4639 - val_accuracy: 0.8333\n",
            "\n",
            "Epoch 00182: val_loss did not improve from 0.44949\n",
            "Epoch 183/300\n",
            "9/9 - 0s - loss: 0.5377 - accuracy: 0.7790 - val_loss: 0.4635 - val_accuracy: 0.8333\n",
            "\n",
            "Epoch 00183: val_loss did not improve from 0.44949\n",
            "Epoch 184/300\n",
            "9/9 - 0s - loss: 0.5077 - accuracy: 0.8077 - val_loss: 0.4598 - val_accuracy: 0.8333\n",
            "\n",
            "Epoch 00184: val_loss did not improve from 0.44949\n",
            "Epoch 185/300\n",
            "9/9 - 0s - loss: 0.5062 - accuracy: 0.8065 - val_loss: 0.4573 - val_accuracy: 0.8333\n",
            "\n",
            "Epoch 00185: val_loss did not improve from 0.44949\n",
            "Epoch 186/300\n",
            "9/9 - 0s - loss: 0.5207 - accuracy: 0.7865 - val_loss: 0.4543 - val_accuracy: 0.8333\n",
            "\n",
            "Epoch 00186: val_loss did not improve from 0.44949\n",
            "Epoch 187/300\n",
            "9/9 - 0s - loss: 0.5329 - accuracy: 0.7865 - val_loss: 0.4531 - val_accuracy: 0.8333\n",
            "\n",
            "Epoch 00187: val_loss did not improve from 0.44949\n",
            "Epoch 188/300\n",
            "9/9 - 0s - loss: 0.5303 - accuracy: 0.7990 - val_loss: 0.4542 - val_accuracy: 0.8333\n",
            "\n",
            "Epoch 00188: val_loss did not improve from 0.44949\n",
            "Epoch 189/300\n",
            "9/9 - 0s - loss: 0.5214 - accuracy: 0.7928 - val_loss: 0.4525 - val_accuracy: 0.8333\n",
            "\n",
            "Epoch 00189: val_loss did not improve from 0.44949\n",
            "Epoch 190/300\n",
            "9/9 - 0s - loss: 0.5088 - accuracy: 0.7953 - val_loss: 0.4528 - val_accuracy: 0.8333\n",
            "\n",
            "Epoch 00190: val_loss did not improve from 0.44949\n",
            "Epoch 191/300\n",
            "9/9 - 0s - loss: 0.5167 - accuracy: 0.7978 - val_loss: 0.4516 - val_accuracy: 0.8333\n",
            "\n",
            "Epoch 00191: val_loss did not improve from 0.44949\n",
            "Epoch 192/300\n",
            "9/9 - 0s - loss: 0.4981 - accuracy: 0.7903 - val_loss: 0.4508 - val_accuracy: 0.8333\n",
            "\n",
            "Epoch 00192: val_loss did not improve from 0.44949\n",
            "Epoch 193/300\n",
            "9/9 - 0s - loss: 0.5210 - accuracy: 0.7840 - val_loss: 0.4522 - val_accuracy: 0.8333\n",
            "\n",
            "Epoch 00193: val_loss did not improve from 0.44949\n",
            "Epoch 194/300\n",
            "9/9 - 0s - loss: 0.5159 - accuracy: 0.7965 - val_loss: 0.4525 - val_accuracy: 0.8333\n",
            "\n",
            "Epoch 00194: val_loss did not improve from 0.44949\n",
            "Epoch 195/300\n",
            "9/9 - 0s - loss: 0.5372 - accuracy: 0.7765 - val_loss: 0.4550 - val_accuracy: 0.8333\n",
            "\n",
            "Epoch 00195: val_loss did not improve from 0.44949\n",
            "Epoch 196/300\n",
            "9/9 - 0s - loss: 0.5267 - accuracy: 0.7965 - val_loss: 0.4583 - val_accuracy: 0.8333\n",
            "\n",
            "Epoch 00196: val_loss did not improve from 0.44949\n",
            "Epoch 197/300\n",
            "9/9 - 0s - loss: 0.5323 - accuracy: 0.7715 - val_loss: 0.4717 - val_accuracy: 0.8333\n",
            "\n",
            "Epoch 00197: val_loss did not improve from 0.44949\n",
            "Epoch 198/300\n",
            "9/9 - 0s - loss: 0.5370 - accuracy: 0.7915 - val_loss: 0.4775 - val_accuracy: 0.8333\n",
            "\n",
            "Epoch 00198: val_loss did not improve from 0.44949\n",
            "Epoch 199/300\n",
            "9/9 - 0s - loss: 0.5208 - accuracy: 0.7978 - val_loss: 0.4760 - val_accuracy: 0.8333\n",
            "\n",
            "Epoch 00199: val_loss did not improve from 0.44949\n",
            "Epoch 200/300\n",
            "9/9 - 0s - loss: 0.5332 - accuracy: 0.7915 - val_loss: 0.4705 - val_accuracy: 0.8333\n",
            "\n",
            "Epoch 00200: val_loss did not improve from 0.44949\n",
            "Epoch 201/300\n",
            "9/9 - 0s - loss: 0.5182 - accuracy: 0.7878 - val_loss: 0.4652 - val_accuracy: 0.8333\n",
            "\n",
            "Epoch 00201: val_loss did not improve from 0.44949\n",
            "Epoch 202/300\n",
            "9/9 - 0s - loss: 0.5249 - accuracy: 0.7965 - val_loss: 0.4588 - val_accuracy: 0.8333\n",
            "\n",
            "Epoch 00202: val_loss did not improve from 0.44949\n",
            "Epoch 203/300\n",
            "9/9 - 0s - loss: 0.5080 - accuracy: 0.7890 - val_loss: 0.4556 - val_accuracy: 0.8333\n",
            "\n",
            "Epoch 00203: val_loss did not improve from 0.44949\n",
            "Epoch 204/300\n",
            "9/9 - 0s - loss: 0.5389 - accuracy: 0.7965 - val_loss: 0.4543 - val_accuracy: 0.8333\n",
            "\n",
            "Epoch 00204: val_loss did not improve from 0.44949\n",
            "Epoch 205/300\n",
            "9/9 - 0s - loss: 0.5232 - accuracy: 0.7828 - val_loss: 0.4573 - val_accuracy: 0.8333\n",
            "\n",
            "Epoch 00205: val_loss did not improve from 0.44949\n",
            "Epoch 206/300\n",
            "9/9 - 0s - loss: 0.5420 - accuracy: 0.7853 - val_loss: 0.4642 - val_accuracy: 0.8333\n",
            "\n",
            "Epoch 00206: val_loss did not improve from 0.44949\n",
            "Epoch 207/300\n",
            "9/9 - 0s - loss: 0.5278 - accuracy: 0.7915 - val_loss: 0.4677 - val_accuracy: 0.8333\n",
            "\n",
            "Epoch 00207: val_loss did not improve from 0.44949\n",
            "Epoch 208/300\n",
            "9/9 - 0s - loss: 0.5044 - accuracy: 0.7828 - val_loss: 0.4684 - val_accuracy: 0.8333\n",
            "\n",
            "Epoch 00208: val_loss did not improve from 0.44949\n",
            "Epoch 209/300\n",
            "9/9 - 0s - loss: 0.5005 - accuracy: 0.8040 - val_loss: 0.4674 - val_accuracy: 0.8333\n",
            "\n",
            "Epoch 00209: val_loss did not improve from 0.44949\n",
            "Epoch 210/300\n",
            "9/9 - 0s - loss: 0.5029 - accuracy: 0.7928 - val_loss: 0.4635 - val_accuracy: 0.8333\n",
            "\n",
            "Epoch 00210: val_loss did not improve from 0.44949\n",
            "Epoch 211/300\n",
            "9/9 - 0s - loss: 0.5104 - accuracy: 0.8002 - val_loss: 0.4617 - val_accuracy: 0.8333\n",
            "\n",
            "Epoch 00211: val_loss did not improve from 0.44949\n",
            "Epoch 212/300\n",
            "9/9 - 0s - loss: 0.5053 - accuracy: 0.7965 - val_loss: 0.4629 - val_accuracy: 0.8333\n",
            "\n",
            "Epoch 00212: val_loss did not improve from 0.44949\n",
            "Epoch 213/300\n",
            "9/9 - 0s - loss: 0.5289 - accuracy: 0.7865 - val_loss: 0.4850 - val_accuracy: 0.8222\n",
            "\n",
            "Epoch 00213: val_loss did not improve from 0.44949\n",
            "Epoch 214/300\n",
            "9/9 - 0s - loss: 0.5054 - accuracy: 0.8015 - val_loss: 0.4901 - val_accuracy: 0.8222\n",
            "\n",
            "Epoch 00214: val_loss did not improve from 0.44949\n",
            "Epoch 215/300\n",
            "9/9 - 0s - loss: 0.4993 - accuracy: 0.7978 - val_loss: 0.4897 - val_accuracy: 0.8222\n",
            "\n",
            "Epoch 00215: val_loss did not improve from 0.44949\n",
            "Epoch 216/300\n",
            "9/9 - 0s - loss: 0.5021 - accuracy: 0.7903 - val_loss: 0.4874 - val_accuracy: 0.8222\n",
            "\n",
            "Epoch 00216: val_loss did not improve from 0.44949\n",
            "Epoch 217/300\n",
            "9/9 - 0s - loss: 0.4828 - accuracy: 0.7990 - val_loss: 0.4838 - val_accuracy: 0.8222\n",
            "\n",
            "Epoch 00217: val_loss did not improve from 0.44949\n",
            "Epoch 218/300\n",
            "9/9 - 0s - loss: 0.5142 - accuracy: 0.7903 - val_loss: 0.4784 - val_accuracy: 0.8222\n",
            "\n",
            "Epoch 00218: val_loss did not improve from 0.44949\n",
            "Epoch 219/300\n",
            "9/9 - 0s - loss: 0.5335 - accuracy: 0.7915 - val_loss: 0.4747 - val_accuracy: 0.8333\n",
            "\n",
            "Epoch 00219: val_loss did not improve from 0.44949\n",
            "Epoch 220/300\n",
            "9/9 - 0s - loss: 0.4832 - accuracy: 0.7965 - val_loss: 0.4709 - val_accuracy: 0.8333\n",
            "\n",
            "Epoch 00220: val_loss did not improve from 0.44949\n",
            "Epoch 221/300\n",
            "9/9 - 0s - loss: 0.5012 - accuracy: 0.8040 - val_loss: 0.4676 - val_accuracy: 0.8333\n",
            "\n",
            "Epoch 00221: val_loss did not improve from 0.44949\n",
            "Epoch 222/300\n",
            "9/9 - 0s - loss: 0.4961 - accuracy: 0.8015 - val_loss: 0.4633 - val_accuracy: 0.8333\n",
            "\n",
            "Epoch 00222: val_loss did not improve from 0.44949\n",
            "Epoch 223/300\n",
            "9/9 - 0s - loss: 0.5020 - accuracy: 0.7990 - val_loss: 0.4629 - val_accuracy: 0.8333\n",
            "\n",
            "Epoch 00223: val_loss did not improve from 0.44949\n",
            "Epoch 224/300\n",
            "9/9 - 0s - loss: 0.5290 - accuracy: 0.7953 - val_loss: 0.4688 - val_accuracy: 0.8333\n",
            "\n",
            "Epoch 00224: val_loss did not improve from 0.44949\n",
            "Epoch 225/300\n",
            "9/9 - 0s - loss: 0.5063 - accuracy: 0.7865 - val_loss: 0.4678 - val_accuracy: 0.8333\n",
            "\n",
            "Epoch 00225: val_loss did not improve from 0.44949\n",
            "Epoch 226/300\n",
            "9/9 - 0s - loss: 0.5266 - accuracy: 0.8052 - val_loss: 0.4682 - val_accuracy: 0.8333\n",
            "\n",
            "Epoch 00226: val_loss did not improve from 0.44949\n",
            "Epoch 227/300\n",
            "9/9 - 0s - loss: 0.5113 - accuracy: 0.8077 - val_loss: 0.4695 - val_accuracy: 0.8333\n",
            "\n",
            "Epoch 00227: val_loss did not improve from 0.44949\n",
            "Epoch 228/300\n",
            "9/9 - 0s - loss: 0.5369 - accuracy: 0.7965 - val_loss: 0.4723 - val_accuracy: 0.8333\n",
            "\n",
            "Epoch 00228: val_loss did not improve from 0.44949\n",
            "Epoch 229/300\n",
            "9/9 - 0s - loss: 0.4845 - accuracy: 0.8027 - val_loss: 0.4716 - val_accuracy: 0.8333\n",
            "\n",
            "Epoch 00229: val_loss did not improve from 0.44949\n",
            "Epoch 230/300\n",
            "9/9 - 0s - loss: 0.5086 - accuracy: 0.7903 - val_loss: 0.4688 - val_accuracy: 0.8333\n",
            "\n",
            "Epoch 00230: val_loss did not improve from 0.44949\n",
            "Epoch 231/300\n",
            "9/9 - 0s - loss: 0.5049 - accuracy: 0.7953 - val_loss: 0.4677 - val_accuracy: 0.8333\n",
            "\n",
            "Epoch 00231: val_loss did not improve from 0.44949\n",
            "Epoch 232/300\n",
            "9/9 - 0s - loss: 0.5103 - accuracy: 0.7978 - val_loss: 0.4665 - val_accuracy: 0.8333\n",
            "\n",
            "Epoch 00232: val_loss did not improve from 0.44949\n",
            "Epoch 233/300\n",
            "9/9 - 0s - loss: 0.5133 - accuracy: 0.7865 - val_loss: 0.4647 - val_accuracy: 0.8333\n",
            "\n",
            "Epoch 00233: val_loss did not improve from 0.44949\n",
            "Epoch 234/300\n",
            "9/9 - 0s - loss: 0.5145 - accuracy: 0.8090 - val_loss: 0.4664 - val_accuracy: 0.8333\n",
            "\n",
            "Epoch 00234: val_loss did not improve from 0.44949\n",
            "Epoch 235/300\n",
            "9/9 - 0s - loss: 0.5053 - accuracy: 0.8065 - val_loss: 0.4784 - val_accuracy: 0.8333\n",
            "\n",
            "Epoch 00235: val_loss did not improve from 0.44949\n",
            "Epoch 236/300\n",
            "9/9 - 0s - loss: 0.5105 - accuracy: 0.8127 - val_loss: 0.4809 - val_accuracy: 0.8333\n",
            "\n",
            "Epoch 00236: val_loss did not improve from 0.44949\n",
            "Epoch 237/300\n",
            "9/9 - 0s - loss: 0.5362 - accuracy: 0.7890 - val_loss: 0.4807 - val_accuracy: 0.8333\n",
            "\n",
            "Epoch 00237: val_loss did not improve from 0.44949\n",
            "Epoch 238/300\n",
            "9/9 - 0s - loss: 0.5008 - accuracy: 0.8027 - val_loss: 0.4771 - val_accuracy: 0.8333\n",
            "\n",
            "Epoch 00238: val_loss did not improve from 0.44949\n",
            "Epoch 239/300\n",
            "9/9 - 0s - loss: 0.5115 - accuracy: 0.7990 - val_loss: 0.4748 - val_accuracy: 0.8333\n",
            "\n",
            "Epoch 00239: val_loss did not improve from 0.44949\n",
            "Epoch 240/300\n",
            "9/9 - 0s - loss: 0.4945 - accuracy: 0.8090 - val_loss: 0.4723 - val_accuracy: 0.8333\n",
            "\n",
            "Epoch 00240: val_loss did not improve from 0.44949\n",
            "Epoch 241/300\n",
            "9/9 - 0s - loss: 0.4976 - accuracy: 0.7990 - val_loss: 0.4713 - val_accuracy: 0.8333\n",
            "\n",
            "Epoch 00241: val_loss did not improve from 0.44949\n",
            "Epoch 242/300\n",
            "9/9 - 0s - loss: 0.5241 - accuracy: 0.7928 - val_loss: 0.4700 - val_accuracy: 0.8333\n",
            "\n",
            "Epoch 00242: val_loss did not improve from 0.44949\n",
            "Epoch 243/300\n",
            "9/9 - 0s - loss: 0.5087 - accuracy: 0.7990 - val_loss: 0.4698 - val_accuracy: 0.8333\n",
            "\n",
            "Epoch 00243: val_loss did not improve from 0.44949\n",
            "Epoch 244/300\n",
            "9/9 - 0s - loss: 0.5083 - accuracy: 0.7990 - val_loss: 0.4698 - val_accuracy: 0.8333\n",
            "\n",
            "Epoch 00244: val_loss did not improve from 0.44949\n",
            "Epoch 245/300\n",
            "9/9 - 0s - loss: 0.5023 - accuracy: 0.8027 - val_loss: 0.4696 - val_accuracy: 0.8333\n",
            "\n",
            "Epoch 00245: val_loss did not improve from 0.44949\n",
            "Epoch 246/300\n",
            "9/9 - 0s - loss: 0.4961 - accuracy: 0.7940 - val_loss: 0.4696 - val_accuracy: 0.8333\n",
            "\n",
            "Epoch 00246: val_loss did not improve from 0.44949\n",
            "Epoch 247/300\n",
            "9/9 - 0s - loss: 0.5009 - accuracy: 0.7990 - val_loss: 0.4689 - val_accuracy: 0.8333\n",
            "\n",
            "Epoch 00247: val_loss did not improve from 0.44949\n",
            "Epoch 248/300\n",
            "9/9 - 0s - loss: 0.4922 - accuracy: 0.8090 - val_loss: 0.4679 - val_accuracy: 0.8333\n",
            "\n",
            "Epoch 00248: val_loss did not improve from 0.44949\n",
            "Epoch 249/300\n",
            "9/9 - 0s - loss: 0.4879 - accuracy: 0.7953 - val_loss: 0.4730 - val_accuracy: 0.8333\n",
            "\n",
            "Epoch 00249: val_loss did not improve from 0.44949\n",
            "Epoch 250/300\n",
            "9/9 - 0s - loss: 0.5129 - accuracy: 0.7803 - val_loss: 0.4722 - val_accuracy: 0.8333\n",
            "\n",
            "Epoch 00250: val_loss did not improve from 0.44949\n",
            "Epoch 251/300\n",
            "9/9 - 0s - loss: 0.4995 - accuracy: 0.7978 - val_loss: 0.4677 - val_accuracy: 0.8333\n",
            "\n",
            "Epoch 00251: val_loss did not improve from 0.44949\n",
            "Epoch 252/300\n",
            "9/9 - 0s - loss: 0.5061 - accuracy: 0.7940 - val_loss: 0.4650 - val_accuracy: 0.8333\n",
            "\n",
            "Epoch 00252: val_loss did not improve from 0.44949\n",
            "Epoch 253/300\n",
            "9/9 - 0s - loss: 0.5069 - accuracy: 0.7903 - val_loss: 0.4605 - val_accuracy: 0.8333\n",
            "\n",
            "Epoch 00253: val_loss did not improve from 0.44949\n",
            "Epoch 254/300\n",
            "9/9 - 0s - loss: 0.5077 - accuracy: 0.7965 - val_loss: 0.4580 - val_accuracy: 0.8222\n",
            "\n",
            "Epoch 00254: val_loss did not improve from 0.44949\n",
            "Epoch 255/300\n",
            "9/9 - 0s - loss: 0.4980 - accuracy: 0.7940 - val_loss: 0.4577 - val_accuracy: 0.8222\n",
            "\n",
            "Epoch 00255: val_loss did not improve from 0.44949\n",
            "Epoch 256/300\n",
            "9/9 - 0s - loss: 0.5202 - accuracy: 0.7990 - val_loss: 0.4586 - val_accuracy: 0.8222\n",
            "\n",
            "Epoch 00256: val_loss did not improve from 0.44949\n",
            "Epoch 257/300\n",
            "9/9 - 0s - loss: 0.5077 - accuracy: 0.8065 - val_loss: 0.4611 - val_accuracy: 0.8333\n",
            "\n",
            "Epoch 00257: val_loss did not improve from 0.44949\n",
            "Epoch 258/300\n",
            "9/9 - 0s - loss: 0.5020 - accuracy: 0.7840 - val_loss: 0.4751 - val_accuracy: 0.8333\n",
            "\n",
            "Epoch 00258: val_loss did not improve from 0.44949\n",
            "Epoch 259/300\n",
            "9/9 - 0s - loss: 0.5141 - accuracy: 0.7915 - val_loss: 0.4823 - val_accuracy: 0.8333\n",
            "\n",
            "Epoch 00259: val_loss did not improve from 0.44949\n",
            "Epoch 260/300\n",
            "9/9 - 0s - loss: 0.4793 - accuracy: 0.7965 - val_loss: 0.4934 - val_accuracy: 0.8333\n",
            "\n",
            "Epoch 00260: val_loss did not improve from 0.44949\n",
            "Epoch 261/300\n",
            "9/9 - 0s - loss: 0.5174 - accuracy: 0.7765 - val_loss: 0.4934 - val_accuracy: 0.8333\n",
            "\n",
            "Epoch 00261: val_loss did not improve from 0.44949\n",
            "Epoch 262/300\n",
            "9/9 - 0s - loss: 0.5106 - accuracy: 0.7890 - val_loss: 0.4898 - val_accuracy: 0.8333\n",
            "\n",
            "Epoch 00262: val_loss did not improve from 0.44949\n",
            "Epoch 263/300\n",
            "9/9 - 0s - loss: 0.5041 - accuracy: 0.7965 - val_loss: 0.4860 - val_accuracy: 0.8333\n",
            "\n",
            "Epoch 00263: val_loss did not improve from 0.44949\n",
            "Epoch 264/300\n",
            "9/9 - 0s - loss: 0.5096 - accuracy: 0.7953 - val_loss: 0.4823 - val_accuracy: 0.8333\n",
            "\n",
            "Epoch 00264: val_loss did not improve from 0.44949\n",
            "Epoch 265/300\n",
            "9/9 - 0s - loss: 0.4835 - accuracy: 0.8090 - val_loss: 0.4774 - val_accuracy: 0.8333\n",
            "\n",
            "Epoch 00265: val_loss did not improve from 0.44949\n",
            "Epoch 266/300\n",
            "9/9 - 0s - loss: 0.5061 - accuracy: 0.8015 - val_loss: 0.4748 - val_accuracy: 0.8333\n",
            "\n",
            "Epoch 00266: val_loss did not improve from 0.44949\n",
            "Epoch 267/300\n",
            "9/9 - 0s - loss: 0.5303 - accuracy: 0.7840 - val_loss: 0.4727 - val_accuracy: 0.8333\n",
            "\n",
            "Epoch 00267: val_loss did not improve from 0.44949\n",
            "Epoch 268/300\n",
            "9/9 - 0s - loss: 0.4987 - accuracy: 0.7865 - val_loss: 0.4696 - val_accuracy: 0.8333\n",
            "\n",
            "Epoch 00268: val_loss did not improve from 0.44949\n",
            "Epoch 269/300\n",
            "9/9 - 0s - loss: 0.4944 - accuracy: 0.8027 - val_loss: 0.4670 - val_accuracy: 0.8333\n",
            "\n",
            "Epoch 00269: val_loss did not improve from 0.44949\n",
            "Epoch 270/300\n",
            "9/9 - 0s - loss: 0.5025 - accuracy: 0.8002 - val_loss: 0.4646 - val_accuracy: 0.8333\n",
            "\n",
            "Epoch 00270: val_loss did not improve from 0.44949\n",
            "Epoch 271/300\n",
            "9/9 - 0s - loss: 0.5116 - accuracy: 0.8015 - val_loss: 0.4641 - val_accuracy: 0.8333\n",
            "\n",
            "Epoch 00271: val_loss did not improve from 0.44949\n",
            "Epoch 272/300\n",
            "9/9 - 0s - loss: 0.4734 - accuracy: 0.8065 - val_loss: 0.4635 - val_accuracy: 0.8333\n",
            "\n",
            "Epoch 00272: val_loss did not improve from 0.44949\n",
            "Epoch 273/300\n",
            "9/9 - 0s - loss: 0.5262 - accuracy: 0.7940 - val_loss: 0.4640 - val_accuracy: 0.8333\n",
            "\n",
            "Epoch 00273: val_loss did not improve from 0.44949\n",
            "Epoch 274/300\n",
            "9/9 - 0s - loss: 0.4874 - accuracy: 0.8052 - val_loss: 0.4633 - val_accuracy: 0.8333\n",
            "\n",
            "Epoch 00274: val_loss did not improve from 0.44949\n",
            "Epoch 275/300\n",
            "9/9 - 0s - loss: 0.4909 - accuracy: 0.7903 - val_loss: 0.4622 - val_accuracy: 0.8444\n",
            "\n",
            "Epoch 00275: val_loss did not improve from 0.44949\n",
            "Epoch 276/300\n",
            "9/9 - 0s - loss: 0.5078 - accuracy: 0.7978 - val_loss: 0.4605 - val_accuracy: 0.8444\n",
            "\n",
            "Epoch 00276: val_loss did not improve from 0.44949\n",
            "Epoch 277/300\n",
            "9/9 - 0s - loss: 0.5254 - accuracy: 0.8090 - val_loss: 0.4591 - val_accuracy: 0.8444\n",
            "\n",
            "Epoch 00277: val_loss did not improve from 0.44949\n",
            "Epoch 278/300\n",
            "9/9 - 0s - loss: 0.4816 - accuracy: 0.8040 - val_loss: 0.4609 - val_accuracy: 0.8444\n",
            "\n",
            "Epoch 00278: val_loss did not improve from 0.44949\n",
            "Epoch 279/300\n",
            "9/9 - 0s - loss: 0.5120 - accuracy: 0.7990 - val_loss: 0.4592 - val_accuracy: 0.8444\n",
            "\n",
            "Epoch 00279: val_loss did not improve from 0.44949\n",
            "Epoch 280/300\n",
            "9/9 - 0s - loss: 0.4980 - accuracy: 0.7878 - val_loss: 0.4565 - val_accuracy: 0.8444\n",
            "\n",
            "Epoch 00280: val_loss did not improve from 0.44949\n",
            "Epoch 281/300\n",
            "9/9 - 0s - loss: 0.5001 - accuracy: 0.7990 - val_loss: 0.4566 - val_accuracy: 0.8444\n",
            "\n",
            "Epoch 00281: val_loss did not improve from 0.44949\n",
            "Epoch 282/300\n",
            "9/9 - 0s - loss: 0.5027 - accuracy: 0.8065 - val_loss: 0.4685 - val_accuracy: 0.8444\n",
            "\n",
            "Epoch 00282: val_loss did not improve from 0.44949\n",
            "Epoch 283/300\n",
            "9/9 - 0s - loss: 0.5123 - accuracy: 0.8127 - val_loss: 0.4730 - val_accuracy: 0.8444\n",
            "\n",
            "Epoch 00283: val_loss did not improve from 0.44949\n",
            "Epoch 284/300\n",
            "9/9 - 0s - loss: 0.4957 - accuracy: 0.8090 - val_loss: 0.4728 - val_accuracy: 0.8333\n",
            "\n",
            "Epoch 00284: val_loss did not improve from 0.44949\n",
            "Epoch 285/300\n",
            "9/9 - 0s - loss: 0.5006 - accuracy: 0.7953 - val_loss: 0.4712 - val_accuracy: 0.8333\n",
            "\n",
            "Epoch 00285: val_loss did not improve from 0.44949\n",
            "Epoch 286/300\n",
            "9/9 - 0s - loss: 0.4859 - accuracy: 0.8065 - val_loss: 0.4701 - val_accuracy: 0.8333\n",
            "\n",
            "Epoch 00286: val_loss did not improve from 0.44949\n",
            "Epoch 287/300\n",
            "9/9 - 0s - loss: 0.5022 - accuracy: 0.8027 - val_loss: 0.4691 - val_accuracy: 0.8444\n",
            "\n",
            "Epoch 00287: val_loss did not improve from 0.44949\n",
            "Epoch 288/300\n",
            "9/9 - 0s - loss: 0.5317 - accuracy: 0.7790 - val_loss: 0.4689 - val_accuracy: 0.8444\n",
            "\n",
            "Epoch 00288: val_loss did not improve from 0.44949\n",
            "Epoch 289/300\n",
            "9/9 - 0s - loss: 0.5455 - accuracy: 0.7703 - val_loss: 0.4679 - val_accuracy: 0.8333\n",
            "\n",
            "Epoch 00289: val_loss did not improve from 0.44949\n",
            "Epoch 290/300\n",
            "9/9 - 0s - loss: 0.5204 - accuracy: 0.7940 - val_loss: 0.4667 - val_accuracy: 0.8333\n",
            "\n",
            "Epoch 00290: val_loss did not improve from 0.44949\n",
            "Epoch 291/300\n",
            "9/9 - 0s - loss: 0.5085 - accuracy: 0.7828 - val_loss: 0.4628 - val_accuracy: 0.8333\n",
            "\n",
            "Epoch 00291: val_loss did not improve from 0.44949\n",
            "Epoch 292/300\n",
            "9/9 - 0s - loss: 0.4691 - accuracy: 0.8277 - val_loss: 0.4603 - val_accuracy: 0.8333\n",
            "\n",
            "Epoch 00292: val_loss did not improve from 0.44949\n",
            "Epoch 293/300\n",
            "9/9 - 0s - loss: 0.4982 - accuracy: 0.7865 - val_loss: 0.4563 - val_accuracy: 0.8333\n",
            "\n",
            "Epoch 00293: val_loss did not improve from 0.44949\n",
            "Epoch 294/300\n",
            "9/9 - 0s - loss: 0.5082 - accuracy: 0.7940 - val_loss: 0.4520 - val_accuracy: 0.8333\n",
            "\n",
            "Epoch 00294: val_loss did not improve from 0.44949\n",
            "Epoch 295/300\n",
            "9/9 - 0s - loss: 0.4839 - accuracy: 0.8065 - val_loss: 0.4474 - val_accuracy: 0.8333\n",
            "\n",
            "Epoch 00295: val_loss improved from 0.44949 to 0.44739, saving model to best_weights.hdf5\n",
            "Epoch 296/300\n",
            "9/9 - 0s - loss: 0.5017 - accuracy: 0.7990 - val_loss: 0.4456 - val_accuracy: 0.8333\n",
            "\n",
            "Epoch 00296: val_loss improved from 0.44739 to 0.44561, saving model to best_weights.hdf5\n",
            "Epoch 297/300\n",
            "9/9 - 0s - loss: 0.4852 - accuracy: 0.8052 - val_loss: 0.4460 - val_accuracy: 0.8333\n",
            "\n",
            "Epoch 00297: val_loss did not improve from 0.44561\n",
            "Epoch 298/300\n",
            "9/9 - 0s - loss: 0.4756 - accuracy: 0.8227 - val_loss: 0.4446 - val_accuracy: 0.8333\n",
            "\n",
            "Epoch 00298: val_loss improved from 0.44561 to 0.44456, saving model to best_weights.hdf5\n",
            "Epoch 299/300\n",
            "9/9 - 0s - loss: 0.5025 - accuracy: 0.8052 - val_loss: 0.4439 - val_accuracy: 0.8333\n",
            "\n",
            "Epoch 00299: val_loss improved from 0.44456 to 0.44386, saving model to best_weights.hdf5\n",
            "Epoch 300/300\n",
            "9/9 - 0s - loss: 0.4934 - accuracy: 0.8165 - val_loss: 0.4453 - val_accuracy: 0.8444\n",
            "\n",
            "Epoch 00300: val_loss did not improve from 0.44386\n"
          ],
          "name": "stdout"
        },
        {
          "output_type": "execute_result",
          "data": {
            "text/plain": [
              "<tensorflow.python.keras.callbacks.History at 0x7ff7ffac4e10>"
            ]
          },
          "metadata": {
            "tags": []
          },
          "execution_count": 55
        }
      ]
    },
    {
      "cell_type": "code",
      "metadata": {
        "id": "UGNHu7cPBMam"
      },
      "source": [
        "# guardar la arquitectura del modelo.\n",
        "\n",
        "yaml_string = model.to_yaml() \n",
        "with open('/content/drive/MyDrive/Colab Notebooks/11. Titanic machine learning/mlp_model.yml', 'w') as outfile:\n",
        "    outfile.write(yaml.dump(yaml_string, default_flow_style=True))"
      ],
      "execution_count": null,
      "outputs": []
    },
    {
      "cell_type": "markdown",
      "metadata": {
        "id": "mar91S3gx5La"
      },
      "source": [
        "#### 5.3 Testing del modelo en testing set."
      ]
    },
    {
      "cell_type": "code",
      "metadata": {
        "id": "aRb4LdyIVncF",
        "colab": {
          "base_uri": "https://localhost:8080/"
        },
        "outputId": "abe55770-b15f-412d-c162-f7fb8c85ee30"
      },
      "source": [
        "# cargar la arquitectura del modelo y sus pesos.\n",
        "\n",
        "with open('/content/drive/MyDrive/Colab Notebooks/11. Titanic machine learning/mlp_model.yml', 'r') as f:\n",
        "        yaml_string = yaml.load(f)\n",
        "model.load_weights('best_weights.hdf5')\n",
        "# model.compile(loss='categorical_crossentropy',optimizer='adam', metrics=['accuracy'])\n",
        "print('model and weights are ready!')"
      ],
      "execution_count": null,
      "outputs": [
        {
          "output_type": "stream",
          "text": [
            "model and weights are ready!\n"
          ],
          "name": "stdout"
        }
      ]
    },
    {
      "cell_type": "code",
      "metadata": {
        "id": "HJwvMm9AVnj-",
        "colab": {
          "base_uri": "https://localhost:8080/"
        },
        "outputId": "f3d74cae-4611-4168-e0f3-270077ac1246"
      },
      "source": [
        "mlp_pred = model.predict_classes(x_test)\n",
        "mlp_pred = pd.Series(mlp_pred)"
      ],
      "execution_count": null,
      "outputs": [
        {
          "output_type": "stream",
          "text": [
            "/usr/local/lib/python3.7/dist-packages/tensorflow/python/keras/engine/sequential.py:455: UserWarning: `model.predict_classes()` is deprecated and will be removed after 2021-01-01. Please use instead:* `np.argmax(model.predict(x), axis=-1)`,   if your model does multi-class classification   (e.g. if it uses a `softmax` last-layer activation).* `(model.predict(x) > 0.5).astype(\"int32\")`,   if your model does binary classification   (e.g. if it uses a `sigmoid` last-layer activation).\n",
            "  warnings.warn('`model.predict_classes()` is deprecated and '\n"
          ],
          "name": "stderr"
        }
      ]
    },
    {
      "cell_type": "code",
      "metadata": {
        "id": "la1Mun4lBbcp"
      },
      "source": [
        "predictions = pd.DataFrame({'PassengerId': id_test, 'Survived': mlp_pred})"
      ],
      "execution_count": null,
      "outputs": []
    },
    {
      "cell_type": "code",
      "metadata": {
        "id": "hGF6YRLkVnui"
      },
      "source": [
        "predictions.to_csv('/content/drive/MyDrive/Colab Notebooks/11. Titanic machine learning/predictions.csv', index = False) "
      ],
      "execution_count": null,
      "outputs": []
    },
    {
      "cell_type": "markdown",
      "metadata": {
        "id": "uUeffeRL0H1U"
      },
      "source": [
        "**MLP deep learning model logró un accuracy en el testing set de Kaggle de 78.23%. Favor ver el otro notebook dentro de este mismo repositorio para ver el código del mejor modelo: Random forest.**"
      ]
    }
  ]
}